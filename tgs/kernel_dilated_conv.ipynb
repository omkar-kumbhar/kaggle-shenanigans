{
 "cells": [
  {
   "cell_type": "markdown",
   "metadata": {
    "_uuid": "c8fc6c3e84f282d0e6f664caf9848297b6c62a16"
   },
   "source": [
    "### U-net with simple Resnet Blocks v2, can get 0.80+\n",
    "* Original version : \n",
    "  https://www.kaggle.com/shaojiaxin/u-net-with-simple-resnet-blocks\n",
    "        \n",
    "        \n",
    "#### update log\n",
    "1.   Cancel last dropout (seems better)\n",
    "2.  modify convolution_block, to be more consistant with the standard resent model. \n",
    "      * https://arxiv.org/abs/1603.05027\n",
    "3. Use faster  IOU metric score code,\n",
    "      * https://www.kaggle.com/donchuk/fast-implementation-of-scoring-metric\n",
    "4. Use  binary_crossentropy loss and then Lovász-hinge loss (very slow!)\n",
    "     * Lovász-hinge loss: https://github.com/bermanmaxim/LovaszSoftmax\n",
    "     \n",
    "Limit the max epochs number to make the kernel finish in the limit of 6 hours, better score can be achived at more epochs "
   ]
  },
  {
   "cell_type": "code",
   "execution_count": 1,
   "metadata": {
    "_cell_guid": "b1076dfc-b9ad-4769-8c92-a6c4dae69d19",
    "_uuid": "8f2839f25d086af736a60e9eeb907d3b93b6e0e5"
   },
   "outputs": [
    {
     "name": "stderr",
     "output_type": "stream",
     "text": [
      "Using TensorFlow backend.\n"
     ]
    }
   ],
   "source": [
    "import os\n",
    "import sys\n",
    "import random\n",
    "\n",
    "import pandas as pd\n",
    "import numpy as np\n",
    "import matplotlib.pyplot as plt\n",
    "plt.style.use('seaborn-white')\n",
    "import seaborn as sns\n",
    "sns.set_style(\"white\")\n",
    "\n",
    "%matplotlib inline\n",
    "\n",
    "# import cv2\n",
    "from sklearn.model_selection import train_test_split\n",
    "\n",
    "from tqdm import tqdm_notebook #, tnrange\n",
    "#from itertools import chain\n",
    "from skimage.io import imread, imshow #, concatenate_images\n",
    "from skimage.transform import resize\n",
    "from skimage.morphology import label\n",
    "\n",
    "from keras.models import Model, load_model, save_model\n",
    "from keras.layers import Input,Dropout,BatchNormalization,Activation,Add\n",
    "from keras.layers.core import Lambda\n",
    "from keras.layers.convolutional import Conv2D, Conv2DTranspose\n",
    "from keras.layers.pooling import MaxPooling2D\n",
    "from keras.layers.merge import concatenate\n",
    "from keras.callbacks import EarlyStopping, ModelCheckpoint, ReduceLROnPlateau\n",
    "from keras import backend as K\n",
    "from keras import optimizers\n",
    "\n",
    "import tensorflow as tf\n",
    "\n",
    "from keras.preprocessing.image import array_to_img, img_to_array, load_img#,save_img\n",
    "\n",
    "import time\n",
    "t_start = time.time()"
   ]
  },
  {
   "cell_type": "code",
   "execution_count": 2,
   "metadata": {
    "_uuid": "2c36d16775556c3e358edefab5710dc1541ccfc4"
   },
   "outputs": [
    {
     "name": "stdout",
     "output_type": "stream",
     "text": [
      "dilated_conv.model\n",
      "dilated_conv.csv\n"
     ]
    }
   ],
   "source": [
    "version = 5\n",
    "basic_name = 'dilated_conv'\n",
    "save_model_name = basic_name + '.model'\n",
    "submission_file = basic_name + '.csv'\n",
    "\n",
    "print(save_model_name)\n",
    "print(submission_file)"
   ]
  },
  {
   "cell_type": "code",
   "execution_count": 3,
   "metadata": {
    "_uuid": "63c469280793719bf311d51e6ba2cdaea157d175"
   },
   "outputs": [],
   "source": [
    "img_size_ori = 101\n",
    "img_size_target = 101\n",
    "\n",
    "def upsample(img):# not used\n",
    "    if img_size_ori == img_size_target:\n",
    "        return img\n",
    "    return resize(img, (img_size_target, img_size_target), mode='constant', preserve_range=True)\n",
    "    \n",
    "def downsample(img):# not used\n",
    "    if img_size_ori == img_size_target:\n",
    "        return img\n",
    "    return resize(img, (img_size_ori, img_size_ori), mode='constant', preserve_range=True)"
   ]
  },
  {
   "cell_type": "code",
   "execution_count": 14,
   "metadata": {
    "_uuid": "1a64babef03b9a0dbc94387a1dad54971c3e028d"
   },
   "outputs": [
    {
     "data": {
      "text/plain": [
       "4000"
      ]
     },
     "execution_count": 14,
     "metadata": {},
     "output_type": "execute_result"
    }
   ],
   "source": [
    "# Loading of training/testing ids and depths\n",
    "train_df = pd.read_csv(\"../train.csv\", index_col=\"id\", usecols=[0])\n",
    "depths_df = pd.read_csv(\"../depths.csv\", index_col=\"id\")\n",
    "train_df = train_df.join(depths_df)\n",
    "test_df = depths_df[~depths_df.index.isin(train_df.index)]\n",
    "\n",
    "len(train_df)"
   ]
  },
  {
   "cell_type": "code",
   "execution_count": 15,
   "metadata": {
    "_uuid": "80c3768717007fb5f087d3e01619f1a9f9a3beac"
   },
   "outputs": [
    {
     "data": {
      "application/vnd.jupyter.widget-view+json": {
       "model_id": "2de8bb0c0ea6452986cf13fb61475838",
       "version_major": 2,
       "version_minor": 0
      },
      "text/plain": [
       "HBox(children=(IntProgress(value=0, max=4000), HTML(value='')))"
      ]
     },
     "metadata": {},
     "output_type": "display_data"
    },
    {
     "name": "stderr",
     "output_type": "stream",
     "text": [
      "/usr/local/lib/python3.5/dist-packages/keras_preprocessing/image.py:489: UserWarning: grayscale is deprecated. Please use color_mode = \"grayscale\"\n",
      "  warnings.warn('grayscale is deprecated. Please use '\n"
     ]
    },
    {
     "name": "stdout",
     "output_type": "stream",
     "text": [
      "\n"
     ]
    }
   ],
   "source": [
    "train_df[\"images\"] = [np.array(load_img(\"../train/images/{}.png\".format(idx), grayscale=True)) / 255 for idx in tqdm_notebook(train_df.index)]"
   ]
  },
  {
   "cell_type": "code",
   "execution_count": 16,
   "metadata": {
    "_uuid": "9f55103f7daad6f03ec874c643077fe686c31bee"
   },
   "outputs": [
    {
     "data": {
      "application/vnd.jupyter.widget-view+json": {
       "model_id": "ec6958e1097b41e6b29f2da33ee7d45f",
       "version_major": 2,
       "version_minor": 0
      },
      "text/plain": [
       "HBox(children=(IntProgress(value=0, max=4000), HTML(value='')))"
      ]
     },
     "metadata": {},
     "output_type": "display_data"
    },
    {
     "name": "stderr",
     "output_type": "stream",
     "text": [
      "/usr/local/lib/python3.5/dist-packages/keras_preprocessing/image.py:489: UserWarning: grayscale is deprecated. Please use color_mode = \"grayscale\"\n",
      "  warnings.warn('grayscale is deprecated. Please use '\n"
     ]
    },
    {
     "name": "stdout",
     "output_type": "stream",
     "text": [
      "\n"
     ]
    }
   ],
   "source": [
    "train_df[\"masks\"] = [np.array(load_img(\"../train/masks/{}.png\".format(idx), grayscale=True)) / 255 for idx in tqdm_notebook(train_df.index)]"
   ]
  },
  {
   "cell_type": "code",
   "execution_count": 17,
   "metadata": {
    "_uuid": "010066dd50ef4fdfa7dabe2c946fd7491f9556fd"
   },
   "outputs": [],
   "source": [
    "train_df[\"coverage\"] = train_df.masks.map(np.sum) / pow(img_size_ori, 2)\n",
    "\n",
    "def cov_to_class(val):    \n",
    "    for i in range(0, 11):\n",
    "        if val * 10 <= i :\n",
    "            return i\n",
    "        \n",
    "train_df[\"coverage_class\"] = train_df.coverage.map(cov_to_class)\n"
   ]
  },
  {
   "cell_type": "code",
   "execution_count": 11,
   "metadata": {
    "_uuid": "2ad5ac1576277fc54d768933c36efd1f9ff01acd"
   },
   "outputs": [
    {
     "data": {
      "text/plain": [
       "Text(0.5,0,'Coverage class')"
      ]
     },
     "execution_count": 11,
     "metadata": {},
     "output_type": "execute_result"
    },
    {
     "data": {
      "image/png": "[encoded data removed]",
      "text/plain": [
       "<Figure size 1080x360 with 2 Axes>"
      ]
     },
     "metadata": {
      "needs_background": "light"
     },
     "output_type": "display_data"
    }
   ],
   "source": [
    "fig, axs = plt.subplots(1, 2, figsize=(15,5))\n",
    "sns.distplot(train_df.coverage, kde=False, ax=axs[0])\n",
    "sns.distplot(train_df.coverage_class, bins=10, kde=False, ax=axs[1])\n",
    "plt.suptitle(\"Salt coverage\")\n",
    "axs[0].set_xlabel(\"Coverage\")\n",
    "axs[1].set_xlabel(\"Coverage class\")"
   ]
  },
  {
   "cell_type": "code",
   "execution_count": 12,
   "metadata": {
    "_uuid": "9f34c4263989a3d95af1e5922c1b7d2126655610"
   },
   "outputs": [
    {
     "data": {
      "text/plain": [
       "Text(0.5,1,'Depth distribution')"
      ]
     },
     "execution_count": 12,
     "metadata": {},
     "output_type": "execute_result"
    },
    {
     "data": {
      "image/png": "[encoded data removed]",
      "text/plain": [
       "<Figure size 432x288 with 1 Axes>"
      ]
     },
     "metadata": {
      "needs_background": "light"
     },
     "output_type": "display_data"
    }
   ],
   "source": [
    "#Plotting the depth distributions¶\n",
    "\n",
    "sns.distplot(train_df.z, label=\"Train\")\n",
    "sns.distplot(test_df.z, label=\"Test\")\n",
    "plt.legend()\n",
    "plt.title(\"Depth distribution\")"
   ]
  },
  {
   "cell_type": "code",
   "execution_count": 18,
   "metadata": {
    "_uuid": "51981795f0dd6b8ca7abe4db367f48313b63811e"
   },
   "outputs": [],
   "source": [
    "# Create train/validation split stratified by salt coverage\n",
    "\n",
    "ids_train, ids_valid, x_train, x_valid, y_train, y_valid, cov_train, cov_test, depth_train, depth_test = train_test_split(\n",
    "    train_df.index.values,\n",
    "    np.array(train_df.images.map(upsample).tolist()).reshape(-1, img_size_target, img_size_target, 1), \n",
    "    np.array(train_df.masks.map(upsample).tolist()).reshape(-1, img_size_target, img_size_target, 1), \n",
    "    train_df.coverage.values,\n",
    "    train_df.z.values,\n",
    "    test_size=0.2, stratify=train_df.coverage_class, random_state= 1234)"
   ]
  },
  {
   "cell_type": "code",
   "execution_count": 13,
   "metadata": {
    "_uuid": "7fb577cdf27f365d4a912728c2a7654d0e60fac8"
   },
   "outputs": [],
   "source": [
    "def BatchActivate(x):\n",
    "    x = BatchNormalization()(x)\n",
    "    x = Activation('relu')(x)\n",
    "    return x\n",
    "\n",
    "def convolution_block(x, filters, size, strides=(1,1), padding='same', activation=True):\n",
    "    x = Conv2D(filters, size, strides=strides, padding=padding)(x)\n",
    "    if activation == True:\n",
    "        x = BatchActivate(x)\n",
    "    return x\n",
    "\n",
    "def residual_block(blockInput, num_filters=16, batch_activate = False):\n",
    "    x = BatchActivate(blockInput)\n",
    "    x = convolution_block(x, num_filters, (3,3) )\n",
    "    x = convolution_block(x, num_filters, (3,3), activation=False)\n",
    "    x = Add()([x, blockInput])\n",
    "    if batch_activate:\n",
    "        x = BatchActivate(x)\n",
    "    return x\n"
   ]
  },
  {
   "cell_type": "code",
   "execution_count": 23,
   "metadata": {
    "_uuid": "02967d71ee7f936254ab54acf2aa7c2e038a2b21"
   },
   "outputs": [],
   "source": [
    "# Build model\n",
    "def build_model(input_layer, start_neurons, DropoutRatio = 0.5):\n",
    "    # 101 -> 50\n",
    "    conv1 = Conv2D(start_neurons * 1, (3, 3), activation=None, padding=\"same\",dilation_rate = 2)(input_layer)\n",
    "    conv1 = residual_block(conv1,start_neurons * 1)\n",
    "    conv1 = residual_block(conv1,start_neurons * 1, True)\n",
    "    pool1 = MaxPooling2D((2, 2))(conv1)\n",
    "    pool1 = Dropout(DropoutRatio/2)(pool1)\n",
    "\n",
    "    # 50 -> 25\n",
    "    conv2 = Conv2D(start_neurons * 2, (3, 3), activation=None, padding=\"same\",dilation_rate = 2)(pool1)\n",
    "    conv2 = residual_block(conv2,start_neurons * 2)\n",
    "    conv2 = residual_block(conv2,start_neurons * 2, True)\n",
    "    pool2 = MaxPooling2D((2, 2))(conv2)\n",
    "    pool2 = Dropout(DropoutRatio)(pool2)\n",
    "\n",
    "    # 25 -> 12\n",
    "    conv3 = Conv2D(start_neurons * 4, (3, 3), activation=None, padding=\"same\",dilation_rate = 4)(pool2)\n",
    "    conv3 = residual_block(conv3,start_neurons * 4)\n",
    "    conv3 = residual_block(conv3,start_neurons * 4, True)\n",
    "    pool3 = MaxPooling2D((2, 2))(conv3)\n",
    "    pool3 = Dropout(DropoutRatio)(pool3)\n",
    "\n",
    "    # 12 -> 6\n",
    "    conv4 = Conv2D(start_neurons * 8, (3, 3), activation=None, padding=\"same\")(pool3)\n",
    "    conv4 = residual_block(conv4,start_neurons * 8)\n",
    "    conv4 = residual_block(conv4,start_neurons * 8, True)\n",
    "    pool4 = MaxPooling2D((2, 2))(conv4)\n",
    "    pool4 = Dropout(DropoutRatio)(pool4)\n",
    "\n",
    "    # Middle\n",
    "    convm = Conv2D(start_neurons * 16, (3, 3), activation=None, padding=\"same\")(pool4)\n",
    "    convm = residual_block(convm,start_neurons * 16)\n",
    "    convm = residual_block(convm,start_neurons * 16, True)\n",
    "    \n",
    "    # 6 -> 12\n",
    "    deconv4 = Conv2DTranspose(start_neurons * 8, (3, 3), strides=(2, 2), padding=\"same\")(convm)\n",
    "    uconv4 = concatenate([deconv4, conv4])\n",
    "    uconv4 = Dropout(DropoutRatio)(uconv4)\n",
    "    \n",
    "    uconv4 = Conv2D(start_neurons * 8, (3, 3), activation=None, padding=\"same\")(uconv4)\n",
    "    uconv4 = residual_block(uconv4,start_neurons * 8)\n",
    "    uconv4 = residual_block(uconv4,start_neurons * 8, True)\n",
    "    \n",
    "    # 12 -> 25\n",
    "    #deconv3 = Conv2DTranspose(start_neurons * 4, (3, 3), strides=(2, 2), padding=\"same\")(uconv4)\n",
    "    deconv3 = Conv2DTranspose(start_neurons * 4, (3, 3), strides=(2, 2), padding=\"valid\",dilation_rate= 4)(uconv4)\n",
    "    uconv3 = concatenate([deconv3, conv3])    \n",
    "    uconv3 = Dropout(DropoutRatio)(uconv3)\n",
    "    \n",
    "    uconv3 = Conv2D(start_neurons * 4, (3, 3), activation=None, padding=\"same\")(uconv3)\n",
    "    uconv3 = residual_block(uconv3,start_neurons * 4)\n",
    "    uconv3 = residual_block(uconv3,start_neurons * 4, True)\n",
    "\n",
    "    # 25 -> 50\n",
    "    deconv2 = Conv2DTranspose(start_neurons * 2, (3, 3), strides=(2, 2), padding=\"same\",dilation_rate= 2)(uconv3)\n",
    "    uconv2 = concatenate([deconv2, conv2])\n",
    "        \n",
    "    uconv2 = Dropout(DropoutRatio)(uconv2)\n",
    "    uconv2 = Conv2D(start_neurons * 2, (3, 3), activation=None, padding=\"same\")(uconv2)\n",
    "    uconv2 = residual_block(uconv2,start_neurons * 2)\n",
    "    uconv2 = residual_block(uconv2,start_neurons * 2, True)\n",
    "    \n",
    "    # 50 -> 101\n",
    "    #deconv1 = Conv2DTranspose(start_neurons * 1, (3, 3), strides=(2, 2), padding=\"same\")(uconv2)\n",
    "    deconv1 = Conv2DTranspose(start_neurons * 1, (3, 3), strides=(2, 2), padding=\"valid\",dilation_rate = 2)(uconv2)\n",
    "    uconv1 = concatenate([deconv1, conv1])\n",
    "    \n",
    "    uconv1 = Dropout(DropoutRatio)(uconv1)\n",
    "    uconv1 = Conv2D(start_neurons * 1, (3, 3), activation=None, padding=\"same\")(uconv1)\n",
    "    uconv1 = residual_block(uconv1,start_neurons * 1)\n",
    "    uconv1 = residual_block(uconv1,start_neurons * 1, True)\n",
    "    \n",
    "    #uconv1 = Dropout(DropoutRatio/2)(uconv1)\n",
    "    #output_layer = Conv2D(1, (1,1), padding=\"same\", activation=\"sigmoid\")(uconv1)\n",
    "    output_layer_noActi = Conv2D(1, (1,1), padding=\"same\", activation=None)(uconv1)\n",
    "    output_layer =  Activation('sigmoid')(output_layer_noActi)\n",
    "    \n",
    "    return output_layer"
   ]
  },
  {
   "cell_type": "code",
   "execution_count": 7,
   "metadata": {
    "_uuid": "2bd5e479d3aa211bcb5fe32ce9c4d71cd012eefa"
   },
   "outputs": [],
   "source": [
    "def get_iou_vector(A, B):\n",
    "    batch_size = A.shape[0]\n",
    "    metric = []\n",
    "    for batch in range(batch_size):\n",
    "        t, p = A[batch]>0, B[batch]>0\n",
    "#         if np.count_nonzero(t) == 0 and np.count_nonzero(p) > 0:\n",
    "#             metric.append(0)\n",
    "#             continue\n",
    "#         if np.count_nonzero(t) >= 1 and np.count_nonzero(p) == 0:\n",
    "#             metric.append(0)\n",
    "#             continue\n",
    "#         if np.count_nonzero(t) == 0 and np.count_nonzero(p) == 0:\n",
    "#             metric.append(1)\n",
    "#             continue\n",
    "        \n",
    "        intersection = np.logical_and(t, p)\n",
    "        union = np.logical_or(t, p)\n",
    "        iou = (np.sum(intersection > 0) + 1e-10 )/ (np.sum(union > 0) + 1e-10)\n",
    "        thresholds = np.arange(0.5, 1, 0.05)\n",
    "        s = []\n",
    "        for thresh in thresholds:\n",
    "            s.append(iou > thresh)\n",
    "        metric.append(np.mean(s))\n",
    "\n",
    "    return np.mean(metric)\n",
    "\n",
    "def my_iou_metric(label, pred):\n",
    "    return tf.py_func(get_iou_vector, [label, pred>0.5], tf.float64)\n",
    "\n",
    "def my_iou_metric_2(label, pred):\n",
    "    return tf.py_func(get_iou_vector, [label, pred >0], tf.float64)"
   ]
  },
  {
   "cell_type": "code",
   "execution_count": 8,
   "metadata": {
    "_uuid": "e25caa2102813289cbd74796b612fbbfaaff8154"
   },
   "outputs": [],
   "source": [
    "# code download from: https://github.com/bermanmaxim/LovaszSoftmax\n",
    "def lovasz_grad(gt_sorted):\n",
    "    \"\"\"\n",
    "    Computes gradient of the Lovasz extension w.r.t sorted errors\n",
    "    See Alg. 1 in paper\n",
    "    \"\"\"\n",
    "    gts = tf.reduce_sum(gt_sorted)\n",
    "    intersection = gts - tf.cumsum(gt_sorted)\n",
    "    union = gts + tf.cumsum(1. - gt_sorted)\n",
    "    jaccard = 1. - intersection / union\n",
    "    jaccard = tf.concat((jaccard[0:1], jaccard[1:] - jaccard[:-1]), 0)\n",
    "    return jaccard\n",
    "\n",
    "\n",
    "# --------------------------- BINARY LOSSES ---------------------------\n",
    "\n",
    "def lovasz_hinge(logits, labels, per_image=True, ignore=None):\n",
    "    \"\"\"\n",
    "    Binary Lovasz hinge loss\n",
    "      logits: [B, H, W] Variable, logits at each pixel (between -\\infty and +\\infty)\n",
    "      labels: [B, H, W] Tensor, binary ground truth masks (0 or 1)\n",
    "      per_image: compute the loss per image instead of per batch\n",
    "      ignore: void class id\n",
    "    \"\"\"\n",
    "    if per_image:\n",
    "        def treat_image(log_lab):\n",
    "            log, lab = log_lab\n",
    "            log, lab = tf.expand_dims(log, 0), tf.expand_dims(lab, 0)\n",
    "            log, lab = flatten_binary_scores(log, lab, ignore)\n",
    "            return lovasz_hinge_flat(log, lab)\n",
    "        losses = tf.map_fn(treat_image, (logits, labels), dtype=tf.float32)\n",
    "        loss = tf.reduce_mean(losses)\n",
    "    else:\n",
    "        loss = lovasz_hinge_flat(*flatten_binary_scores(logits, labels, ignore))\n",
    "    return loss\n",
    "\n",
    "\n",
    "def lovasz_hinge_flat(logits, labels):\n",
    "    \"\"\"\n",
    "    Binary Lovasz hinge loss\n",
    "      logits: [P] Variable, logits at each prediction (between -\\infty and +\\infty)\n",
    "      labels: [P] Tensor, binary ground truth labels (0 or 1)\n",
    "      ignore: label to ignore\n",
    "    \"\"\"\n",
    "\n",
    "    def compute_loss():\n",
    "        labelsf = tf.cast(labels, logits.dtype)\n",
    "        signs = 2. * labelsf - 1.\n",
    "        errors = 1. - logits * tf.stop_gradient(signs)\n",
    "        errors_sorted, perm = tf.nn.top_k(errors, k=tf.shape(errors)[0], name=\"descending_sort\")\n",
    "        gt_sorted = tf.gather(labelsf, perm)\n",
    "        grad = lovasz_grad(gt_sorted)\n",
    "        loss = tf.tensordot(tf.nn.relu(errors_sorted), tf.stop_gradient(grad), 1, name=\"loss_non_void\")\n",
    "        return loss\n",
    "\n",
    "    # deal with the void prediction case (only void pixels)\n",
    "    loss = tf.cond(tf.equal(tf.shape(logits)[0], 0),\n",
    "                   lambda: tf.reduce_sum(logits) * 0.,\n",
    "                   compute_loss,\n",
    "                   strict=True,\n",
    "                   name=\"loss\"\n",
    "                   )\n",
    "    return loss\n",
    "\n",
    "\n",
    "def flatten_binary_scores(scores, labels, ignore=None):\n",
    "    \"\"\"\n",
    "    Flattens predictions in the batch (binary case)\n",
    "    Remove labels equal to 'ignore'\n",
    "    \"\"\"\n",
    "    scores = tf.reshape(scores, (-1,))\n",
    "    labels = tf.reshape(labels, (-1,))\n",
    "    if ignore is None:\n",
    "        return scores, labels\n",
    "    valid = tf.not_equal(labels, ignore)\n",
    "    vscores = tf.boolean_mask(scores, valid, name='valid_scores')\n",
    "    vlabels = tf.boolean_mask(labels, valid, name='valid_labels')\n",
    "    return vscores, vlabels\n",
    "\n",
    "def lovasz_loss(y_true, y_pred):\n",
    "    y_true, y_pred = K.cast(K.squeeze(y_true, -1), 'int32'), K.cast(K.squeeze(y_pred, -1), 'float32')\n",
    "    #logits = K.log(y_pred / (1. - y_pred))\n",
    "    logits = y_pred #Jiaxin\n",
    "    loss = lovasz_hinge(logits, y_true, per_image = True, ignore = None)\n",
    "    return loss"
   ]
  },
  {
   "cell_type": "code",
   "execution_count": 17,
   "metadata": {
    "_uuid": "072ab621d38cc93d26998f391357cb6efc791600"
   },
   "outputs": [
    {
     "name": "stdout",
     "output_type": "stream",
     "text": [
      "(6400, 101, 101, 1)\n",
      "(800, 101, 101, 1)\n"
     ]
    }
   ],
   "source": [
    "#Data augmentation\n",
    "x_train = np.append(x_train, [np.fliplr(x) for x in x_train], axis=0)\n",
    "y_train = np.append(y_train, [np.fliplr(x) for x in y_train], axis=0)\n",
    "print(x_train.shape)\n",
    "print(y_valid.shape)"
   ]
  },
  {
   "cell_type": "code",
   "execution_count": 32,
   "metadata": {
    "_uuid": "30622932f68888e895a9b8cac91810a1bb3c5e75",
    "scrolled": true
   },
   "outputs": [
    {
     "name": "stdout",
     "output_type": "stream",
     "text": [
      "__________________________________________________________________________________________________\n",
      "Layer (type)                    Output Shape         Param #     Connected to                     \n",
      "==================================================================================================\n",
      "input_4 (InputLayer)            (None, 101, 101, 1)  0                                            \n",
      "__________________________________________________________________________________________________\n",
      "conv2d_139 (Conv2D)             (None, 101, 101, 16) 160         input_4[0][0]                    \n",
      "__________________________________________________________________________________________________\n",
      "batch_normalization_136 (BatchN (None, 101, 101, 16) 64          conv2d_139[0][0]                 \n",
      "__________________________________________________________________________________________________\n",
      "activation_139 (Activation)     (None, 101, 101, 16) 0           batch_normalization_136[0][0]    \n",
      "__________________________________________________________________________________________________\n",
      "conv2d_140 (Conv2D)             (None, 101, 101, 16) 2320        activation_139[0][0]             \n",
      "__________________________________________________________________________________________________\n",
      "batch_normalization_137 (BatchN (None, 101, 101, 16) 64          conv2d_140[0][0]                 \n",
      "__________________________________________________________________________________________________\n",
      "activation_140 (Activation)     (None, 101, 101, 16) 0           batch_normalization_137[0][0]    \n",
      "__________________________________________________________________________________________________\n",
      "conv2d_141 (Conv2D)             (None, 101, 101, 16) 2320        activation_140[0][0]             \n",
      "__________________________________________________________________________________________________\n",
      "add_55 (Add)                    (None, 101, 101, 16) 0           conv2d_141[0][0]                 \n",
      "                                                                 conv2d_139[0][0]                 \n",
      "__________________________________________________________________________________________________\n",
      "batch_normalization_138 (BatchN (None, 101, 101, 16) 64          add_55[0][0]                     \n",
      "__________________________________________________________________________________________________\n",
      "activation_141 (Activation)     (None, 101, 101, 16) 0           batch_normalization_138[0][0]    \n",
      "__________________________________________________________________________________________________\n",
      "conv2d_142 (Conv2D)             (None, 101, 101, 16) 2320        activation_141[0][0]             \n",
      "__________________________________________________________________________________________________\n",
      "batch_normalization_139 (BatchN (None, 101, 101, 16) 64          conv2d_142[0][0]                 \n",
      "__________________________________________________________________________________________________\n",
      "activation_142 (Activation)     (None, 101, 101, 16) 0           batch_normalization_139[0][0]    \n",
      "__________________________________________________________________________________________________\n",
      "conv2d_143 (Conv2D)             (None, 101, 101, 16) 2320        activation_142[0][0]             \n",
      "__________________________________________________________________________________________________\n",
      "add_56 (Add)                    (None, 101, 101, 16) 0           conv2d_143[0][0]                 \n",
      "                                                                 add_55[0][0]                     \n",
      "__________________________________________________________________________________________________\n",
      "batch_normalization_140 (BatchN (None, 101, 101, 16) 64          add_56[0][0]                     \n",
      "__________________________________________________________________________________________________\n",
      "activation_143 (Activation)     (None, 101, 101, 16) 0           batch_normalization_140[0][0]    \n",
      "__________________________________________________________________________________________________\n",
      "max_pooling2d_13 (MaxPooling2D) (None, 50, 50, 16)   0           activation_143[0][0]             \n",
      "__________________________________________________________________________________________________\n",
      "dropout_25 (Dropout)            (None, 50, 50, 16)   0           max_pooling2d_13[0][0]           \n",
      "__________________________________________________________________________________________________\n",
      "conv2d_144 (Conv2D)             (None, 50, 50, 32)   4640        dropout_25[0][0]                 \n",
      "__________________________________________________________________________________________________\n",
      "batch_normalization_141 (BatchN (None, 50, 50, 32)   128         conv2d_144[0][0]                 \n",
      "__________________________________________________________________________________________________\n",
      "activation_144 (Activation)     (None, 50, 50, 32)   0           batch_normalization_141[0][0]    \n",
      "__________________________________________________________________________________________________\n",
      "conv2d_145 (Conv2D)             (None, 50, 50, 32)   9248        activation_144[0][0]             \n",
      "__________________________________________________________________________________________________\n",
      "batch_normalization_142 (BatchN (None, 50, 50, 32)   128         conv2d_145[0][0]                 \n",
      "__________________________________________________________________________________________________\n",
      "activation_145 (Activation)     (None, 50, 50, 32)   0           batch_normalization_142[0][0]    \n",
      "__________________________________________________________________________________________________\n",
      "conv2d_146 (Conv2D)             (None, 50, 50, 32)   9248        activation_145[0][0]             \n",
      "__________________________________________________________________________________________________\n",
      "add_57 (Add)                    (None, 50, 50, 32)   0           conv2d_146[0][0]                 \n",
      "                                                                 conv2d_144[0][0]                 \n",
      "__________________________________________________________________________________________________\n",
      "batch_normalization_143 (BatchN (None, 50, 50, 32)   128         add_57[0][0]                     \n",
      "__________________________________________________________________________________________________\n",
      "activation_146 (Activation)     (None, 50, 50, 32)   0           batch_normalization_143[0][0]    \n",
      "__________________________________________________________________________________________________\n",
      "conv2d_147 (Conv2D)             (None, 50, 50, 32)   9248        activation_146[0][0]             \n",
      "__________________________________________________________________________________________________\n",
      "batch_normalization_144 (BatchN (None, 50, 50, 32)   128         conv2d_147[0][0]                 \n",
      "__________________________________________________________________________________________________\n",
      "activation_147 (Activation)     (None, 50, 50, 32)   0           batch_normalization_144[0][0]    \n",
      "__________________________________________________________________________________________________\n",
      "conv2d_148 (Conv2D)             (None, 50, 50, 32)   9248        activation_147[0][0]             \n",
      "__________________________________________________________________________________________________\n",
      "add_58 (Add)                    (None, 50, 50, 32)   0           conv2d_148[0][0]                 \n",
      "                                                                 add_57[0][0]                     \n",
      "__________________________________________________________________________________________________\n",
      "batch_normalization_145 (BatchN (None, 50, 50, 32)   128         add_58[0][0]                     \n",
      "__________________________________________________________________________________________________\n",
      "activation_148 (Activation)     (None, 50, 50, 32)   0           batch_normalization_145[0][0]    \n",
      "__________________________________________________________________________________________________\n",
      "max_pooling2d_14 (MaxPooling2D) (None, 25, 25, 32)   0           activation_148[0][0]             \n",
      "__________________________________________________________________________________________________\n",
      "dropout_26 (Dropout)            (None, 25, 25, 32)   0           max_pooling2d_14[0][0]           \n",
      "__________________________________________________________________________________________________\n",
      "conv2d_149 (Conv2D)             (None, 25, 25, 64)   18496       dropout_26[0][0]                 \n",
      "__________________________________________________________________________________________________\n",
      "batch_normalization_146 (BatchN (None, 25, 25, 64)   256         conv2d_149[0][0]                 \n",
      "__________________________________________________________________________________________________\n",
      "activation_149 (Activation)     (None, 25, 25, 64)   0           batch_normalization_146[0][0]    \n",
      "__________________________________________________________________________________________________\n",
      "conv2d_150 (Conv2D)             (None, 25, 25, 64)   36928       activation_149[0][0]             \n",
      "__________________________________________________________________________________________________\n",
      "batch_normalization_147 (BatchN (None, 25, 25, 64)   256         conv2d_150[0][0]                 \n",
      "__________________________________________________________________________________________________\n",
      "activation_150 (Activation)     (None, 25, 25, 64)   0           batch_normalization_147[0][0]    \n",
      "__________________________________________________________________________________________________\n",
      "conv2d_151 (Conv2D)             (None, 25, 25, 64)   36928       activation_150[0][0]             \n",
      "__________________________________________________________________________________________________\n",
      "add_59 (Add)                    (None, 25, 25, 64)   0           conv2d_151[0][0]                 \n",
      "                                                                 conv2d_149[0][0]                 \n",
      "__________________________________________________________________________________________________\n",
      "batch_normalization_148 (BatchN (None, 25, 25, 64)   256         add_59[0][0]                     \n",
      "__________________________________________________________________________________________________\n",
      "activation_151 (Activation)     (None, 25, 25, 64)   0           batch_normalization_148[0][0]    \n",
      "__________________________________________________________________________________________________\n",
      "conv2d_152 (Conv2D)             (None, 25, 25, 64)   36928       activation_151[0][0]             \n",
      "__________________________________________________________________________________________________\n",
      "batch_normalization_149 (BatchN (None, 25, 25, 64)   256         conv2d_152[0][0]                 \n",
      "__________________________________________________________________________________________________\n",
      "activation_152 (Activation)     (None, 25, 25, 64)   0           batch_normalization_149[0][0]    \n",
      "__________________________________________________________________________________________________\n",
      "conv2d_153 (Conv2D)             (None, 25, 25, 64)   36928       activation_152[0][0]             \n",
      "__________________________________________________________________________________________________\n",
      "add_60 (Add)                    (None, 25, 25, 64)   0           conv2d_153[0][0]                 \n",
      "                                                                 add_59[0][0]                     \n",
      "__________________________________________________________________________________________________\n",
      "batch_normalization_150 (BatchN (None, 25, 25, 64)   256         add_60[0][0]                     \n",
      "__________________________________________________________________________________________________\n",
      "activation_153 (Activation)     (None, 25, 25, 64)   0           batch_normalization_150[0][0]    \n",
      "__________________________________________________________________________________________________\n",
      "max_pooling2d_15 (MaxPooling2D) (None, 12, 12, 64)   0           activation_153[0][0]             \n",
      "__________________________________________________________________________________________________\n",
      "dropout_27 (Dropout)            (None, 12, 12, 64)   0           max_pooling2d_15[0][0]           \n",
      "__________________________________________________________________________________________________\n",
      "conv2d_154 (Conv2D)             (None, 12, 12, 128)  73856       dropout_27[0][0]                 \n",
      "__________________________________________________________________________________________________\n",
      "batch_normalization_151 (BatchN (None, 12, 12, 128)  512         conv2d_154[0][0]                 \n",
      "__________________________________________________________________________________________________\n",
      "activation_154 (Activation)     (None, 12, 12, 128)  0           batch_normalization_151[0][0]    \n",
      "__________________________________________________________________________________________________\n",
      "conv2d_155 (Conv2D)             (None, 12, 12, 128)  147584      activation_154[0][0]             \n",
      "__________________________________________________________________________________________________\n",
      "batch_normalization_152 (BatchN (None, 12, 12, 128)  512         conv2d_155[0][0]                 \n",
      "__________________________________________________________________________________________________\n",
      "activation_155 (Activation)     (None, 12, 12, 128)  0           batch_normalization_152[0][0]    \n",
      "__________________________________________________________________________________________________\n",
      "conv2d_156 (Conv2D)             (None, 12, 12, 128)  147584      activation_155[0][0]             \n",
      "__________________________________________________________________________________________________\n",
      "add_61 (Add)                    (None, 12, 12, 128)  0           conv2d_156[0][0]                 \n",
      "                                                                 conv2d_154[0][0]                 \n",
      "__________________________________________________________________________________________________\n",
      "batch_normalization_153 (BatchN (None, 12, 12, 128)  512         add_61[0][0]                     \n",
      "__________________________________________________________________________________________________\n",
      "activation_156 (Activation)     (None, 12, 12, 128)  0           batch_normalization_153[0][0]    \n",
      "__________________________________________________________________________________________________\n",
      "conv2d_157 (Conv2D)             (None, 12, 12, 128)  147584      activation_156[0][0]             \n",
      "__________________________________________________________________________________________________\n",
      "batch_normalization_154 (BatchN (None, 12, 12, 128)  512         conv2d_157[0][0]                 \n",
      "__________________________________________________________________________________________________\n",
      "activation_157 (Activation)     (None, 12, 12, 128)  0           batch_normalization_154[0][0]    \n",
      "__________________________________________________________________________________________________\n",
      "conv2d_158 (Conv2D)             (None, 12, 12, 128)  147584      activation_157[0][0]             \n",
      "__________________________________________________________________________________________________\n",
      "add_62 (Add)                    (None, 12, 12, 128)  0           conv2d_158[0][0]                 \n",
      "                                                                 add_61[0][0]                     \n",
      "__________________________________________________________________________________________________\n",
      "batch_normalization_155 (BatchN (None, 12, 12, 128)  512         add_62[0][0]                     \n",
      "__________________________________________________________________________________________________\n",
      "activation_158 (Activation)     (None, 12, 12, 128)  0           batch_normalization_155[0][0]    \n",
      "__________________________________________________________________________________________________\n",
      "max_pooling2d_16 (MaxPooling2D) (None, 6, 6, 128)    0           activation_158[0][0]             \n",
      "__________________________________________________________________________________________________\n",
      "dropout_28 (Dropout)            (None, 6, 6, 128)    0           max_pooling2d_16[0][0]           \n",
      "__________________________________________________________________________________________________\n",
      "conv2d_159 (Conv2D)             (None, 6, 6, 256)    295168      dropout_28[0][0]                 \n",
      "__________________________________________________________________________________________________\n",
      "batch_normalization_156 (BatchN (None, 6, 6, 256)    1024        conv2d_159[0][0]                 \n",
      "__________________________________________________________________________________________________\n",
      "activation_159 (Activation)     (None, 6, 6, 256)    0           batch_normalization_156[0][0]    \n",
      "__________________________________________________________________________________________________\n",
      "conv2d_160 (Conv2D)             (None, 6, 6, 256)    590080      activation_159[0][0]             \n",
      "__________________________________________________________________________________________________\n",
      "batch_normalization_157 (BatchN (None, 6, 6, 256)    1024        conv2d_160[0][0]                 \n",
      "__________________________________________________________________________________________________\n",
      "activation_160 (Activation)     (None, 6, 6, 256)    0           batch_normalization_157[0][0]    \n",
      "__________________________________________________________________________________________________\n",
      "conv2d_161 (Conv2D)             (None, 6, 6, 256)    590080      activation_160[0][0]             \n",
      "__________________________________________________________________________________________________\n",
      "add_63 (Add)                    (None, 6, 6, 256)    0           conv2d_161[0][0]                 \n",
      "                                                                 conv2d_159[0][0]                 \n",
      "__________________________________________________________________________________________________\n",
      "batch_normalization_158 (BatchN (None, 6, 6, 256)    1024        add_63[0][0]                     \n",
      "__________________________________________________________________________________________________\n",
      "activation_161 (Activation)     (None, 6, 6, 256)    0           batch_normalization_158[0][0]    \n",
      "__________________________________________________________________________________________________\n",
      "conv2d_162 (Conv2D)             (None, 6, 6, 256)    590080      activation_161[0][0]             \n",
      "__________________________________________________________________________________________________\n",
      "batch_normalization_159 (BatchN (None, 6, 6, 256)    1024        conv2d_162[0][0]                 \n",
      "__________________________________________________________________________________________________\n",
      "activation_162 (Activation)     (None, 6, 6, 256)    0           batch_normalization_159[0][0]    \n",
      "__________________________________________________________________________________________________\n",
      "conv2d_163 (Conv2D)             (None, 6, 6, 256)    590080      activation_162[0][0]             \n",
      "__________________________________________________________________________________________________\n",
      "add_64 (Add)                    (None, 6, 6, 256)    0           conv2d_163[0][0]                 \n",
      "                                                                 add_63[0][0]                     \n",
      "__________________________________________________________________________________________________\n",
      "batch_normalization_160 (BatchN (None, 6, 6, 256)    1024        add_64[0][0]                     \n",
      "__________________________________________________________________________________________________\n",
      "activation_163 (Activation)     (None, 6, 6, 256)    0           batch_normalization_160[0][0]    \n",
      "__________________________________________________________________________________________________\n",
      "conv2d_transpose_13 (Conv2DTran (None, 12, 12, 128)  295040      activation_163[0][0]             \n",
      "__________________________________________________________________________________________________\n",
      "concatenate_13 (Concatenate)    (None, 12, 12, 256)  0           conv2d_transpose_13[0][0]        \n",
      "                                                                 activation_158[0][0]             \n",
      "__________________________________________________________________________________________________\n",
      "dropout_29 (Dropout)            (None, 12, 12, 256)  0           concatenate_13[0][0]             \n",
      "__________________________________________________________________________________________________\n",
      "conv2d_164 (Conv2D)             (None, 12, 12, 128)  295040      dropout_29[0][0]                 \n",
      "__________________________________________________________________________________________________\n",
      "batch_normalization_161 (BatchN (None, 12, 12, 128)  512         conv2d_164[0][0]                 \n",
      "__________________________________________________________________________________________________\n",
      "activation_164 (Activation)     (None, 12, 12, 128)  0           batch_normalization_161[0][0]    \n",
      "__________________________________________________________________________________________________\n",
      "conv2d_165 (Conv2D)             (None, 12, 12, 128)  147584      activation_164[0][0]             \n",
      "__________________________________________________________________________________________________\n",
      "batch_normalization_162 (BatchN (None, 12, 12, 128)  512         conv2d_165[0][0]                 \n",
      "__________________________________________________________________________________________________\n",
      "activation_165 (Activation)     (None, 12, 12, 128)  0           batch_normalization_162[0][0]    \n",
      "__________________________________________________________________________________________________\n",
      "conv2d_166 (Conv2D)             (None, 12, 12, 128)  147584      activation_165[0][0]             \n",
      "__________________________________________________________________________________________________\n",
      "add_65 (Add)                    (None, 12, 12, 128)  0           conv2d_166[0][0]                 \n",
      "                                                                 conv2d_164[0][0]                 \n",
      "__________________________________________________________________________________________________\n",
      "batch_normalization_163 (BatchN (None, 12, 12, 128)  512         add_65[0][0]                     \n",
      "__________________________________________________________________________________________________\n",
      "activation_166 (Activation)     (None, 12, 12, 128)  0           batch_normalization_163[0][0]    \n",
      "__________________________________________________________________________________________________\n",
      "conv2d_167 (Conv2D)             (None, 12, 12, 128)  147584      activation_166[0][0]             \n",
      "__________________________________________________________________________________________________\n",
      "batch_normalization_164 (BatchN (None, 12, 12, 128)  512         conv2d_167[0][0]                 \n",
      "__________________________________________________________________________________________________\n",
      "activation_167 (Activation)     (None, 12, 12, 128)  0           batch_normalization_164[0][0]    \n",
      "__________________________________________________________________________________________________\n",
      "conv2d_168 (Conv2D)             (None, 12, 12, 128)  147584      activation_167[0][0]             \n",
      "__________________________________________________________________________________________________\n",
      "add_66 (Add)                    (None, 12, 12, 128)  0           conv2d_168[0][0]                 \n",
      "                                                                 add_65[0][0]                     \n",
      "__________________________________________________________________________________________________\n",
      "batch_normalization_165 (BatchN (None, 12, 12, 128)  512         add_66[0][0]                     \n",
      "__________________________________________________________________________________________________\n",
      "activation_168 (Activation)     (None, 12, 12, 128)  0           batch_normalization_165[0][0]    \n",
      "__________________________________________________________________________________________________\n",
      "conv2d_transpose_14 (Conv2DTran (None, 25, 25, 64)   73792       activation_168[0][0]             \n",
      "__________________________________________________________________________________________________\n",
      "concatenate_14 (Concatenate)    (None, 25, 25, 128)  0           conv2d_transpose_14[0][0]        \n",
      "                                                                 activation_153[0][0]             \n",
      "__________________________________________________________________________________________________\n",
      "dropout_30 (Dropout)            (None, 25, 25, 128)  0           concatenate_14[0][0]             \n",
      "__________________________________________________________________________________________________\n",
      "conv2d_169 (Conv2D)             (None, 25, 25, 64)   73792       dropout_30[0][0]                 \n",
      "__________________________________________________________________________________________________\n",
      "batch_normalization_166 (BatchN (None, 25, 25, 64)   256         conv2d_169[0][0]                 \n",
      "__________________________________________________________________________________________________\n",
      "activation_169 (Activation)     (None, 25, 25, 64)   0           batch_normalization_166[0][0]    \n",
      "__________________________________________________________________________________________________\n",
      "conv2d_170 (Conv2D)             (None, 25, 25, 64)   36928       activation_169[0][0]             \n",
      "__________________________________________________________________________________________________\n",
      "batch_normalization_167 (BatchN (None, 25, 25, 64)   256         conv2d_170[0][0]                 \n",
      "__________________________________________________________________________________________________\n",
      "activation_170 (Activation)     (None, 25, 25, 64)   0           batch_normalization_167[0][0]    \n",
      "__________________________________________________________________________________________________\n",
      "conv2d_171 (Conv2D)             (None, 25, 25, 64)   36928       activation_170[0][0]             \n",
      "__________________________________________________________________________________________________\n",
      "add_67 (Add)                    (None, 25, 25, 64)   0           conv2d_171[0][0]                 \n",
      "                                                                 conv2d_169[0][0]                 \n",
      "__________________________________________________________________________________________________\n",
      "batch_normalization_168 (BatchN (None, 25, 25, 64)   256         add_67[0][0]                     \n",
      "__________________________________________________________________________________________________\n",
      "activation_171 (Activation)     (None, 25, 25, 64)   0           batch_normalization_168[0][0]    \n",
      "__________________________________________________________________________________________________\n",
      "conv2d_172 (Conv2D)             (None, 25, 25, 64)   36928       activation_171[0][0]             \n",
      "__________________________________________________________________________________________________\n",
      "batch_normalization_169 (BatchN (None, 25, 25, 64)   256         conv2d_172[0][0]                 \n",
      "__________________________________________________________________________________________________\n",
      "activation_172 (Activation)     (None, 25, 25, 64)   0           batch_normalization_169[0][0]    \n",
      "__________________________________________________________________________________________________\n",
      "conv2d_173 (Conv2D)             (None, 25, 25, 64)   36928       activation_172[0][0]             \n",
      "__________________________________________________________________________________________________\n",
      "add_68 (Add)                    (None, 25, 25, 64)   0           conv2d_173[0][0]                 \n",
      "                                                                 add_67[0][0]                     \n",
      "__________________________________________________________________________________________________\n",
      "batch_normalization_170 (BatchN (None, 25, 25, 64)   256         add_68[0][0]                     \n",
      "__________________________________________________________________________________________________\n",
      "activation_173 (Activation)     (None, 25, 25, 64)   0           batch_normalization_170[0][0]    \n",
      "__________________________________________________________________________________________________\n",
      "conv2d_transpose_15 (Conv2DTran (None, 50, 50, 32)   18464       activation_173[0][0]             \n",
      "__________________________________________________________________________________________________\n",
      "concatenate_15 (Concatenate)    (None, 50, 50, 64)   0           conv2d_transpose_15[0][0]        \n",
      "                                                                 activation_148[0][0]             \n",
      "__________________________________________________________________________________________________\n",
      "dropout_31 (Dropout)            (None, 50, 50, 64)   0           concatenate_15[0][0]             \n",
      "__________________________________________________________________________________________________\n",
      "conv2d_174 (Conv2D)             (None, 50, 50, 32)   18464       dropout_31[0][0]                 \n",
      "__________________________________________________________________________________________________\n",
      "batch_normalization_171 (BatchN (None, 50, 50, 32)   128         conv2d_174[0][0]                 \n",
      "__________________________________________________________________________________________________\n",
      "activation_174 (Activation)     (None, 50, 50, 32)   0           batch_normalization_171[0][0]    \n",
      "__________________________________________________________________________________________________\n",
      "conv2d_175 (Conv2D)             (None, 50, 50, 32)   9248        activation_174[0][0]             \n",
      "__________________________________________________________________________________________________\n",
      "batch_normalization_172 (BatchN (None, 50, 50, 32)   128         conv2d_175[0][0]                 \n",
      "__________________________________________________________________________________________________\n",
      "activation_175 (Activation)     (None, 50, 50, 32)   0           batch_normalization_172[0][0]    \n",
      "__________________________________________________________________________________________________\n",
      "conv2d_176 (Conv2D)             (None, 50, 50, 32)   9248        activation_175[0][0]             \n",
      "__________________________________________________________________________________________________\n",
      "add_69 (Add)                    (None, 50, 50, 32)   0           conv2d_176[0][0]                 \n",
      "                                                                 conv2d_174[0][0]                 \n",
      "__________________________________________________________________________________________________\n",
      "batch_normalization_173 (BatchN (None, 50, 50, 32)   128         add_69[0][0]                     \n",
      "__________________________________________________________________________________________________\n",
      "activation_176 (Activation)     (None, 50, 50, 32)   0           batch_normalization_173[0][0]    \n",
      "__________________________________________________________________________________________________\n",
      "conv2d_177 (Conv2D)             (None, 50, 50, 32)   9248        activation_176[0][0]             \n",
      "__________________________________________________________________________________________________\n",
      "batch_normalization_174 (BatchN (None, 50, 50, 32)   128         conv2d_177[0][0]                 \n",
      "__________________________________________________________________________________________________\n",
      "activation_177 (Activation)     (None, 50, 50, 32)   0           batch_normalization_174[0][0]    \n",
      "__________________________________________________________________________________________________\n",
      "conv2d_178 (Conv2D)             (None, 50, 50, 32)   9248        activation_177[0][0]             \n",
      "__________________________________________________________________________________________________\n",
      "add_70 (Add)                    (None, 50, 50, 32)   0           conv2d_178[0][0]                 \n",
      "                                                                 add_69[0][0]                     \n",
      "__________________________________________________________________________________________________\n",
      "batch_normalization_175 (BatchN (None, 50, 50, 32)   128         add_70[0][0]                     \n",
      "__________________________________________________________________________________________________\n",
      "activation_178 (Activation)     (None, 50, 50, 32)   0           batch_normalization_175[0][0]    \n",
      "__________________________________________________________________________________________________\n",
      "conv2d_transpose_16 (Conv2DTran (None, 101, 101, 16) 4624        activation_178[0][0]             \n",
      "__________________________________________________________________________________________________\n",
      "concatenate_16 (Concatenate)    (None, 101, 101, 32) 0           conv2d_transpose_16[0][0]        \n",
      "                                                                 activation_143[0][0]             \n",
      "__________________________________________________________________________________________________\n",
      "dropout_32 (Dropout)            (None, 101, 101, 32) 0           concatenate_16[0][0]             \n",
      "__________________________________________________________________________________________________\n",
      "conv2d_179 (Conv2D)             (None, 101, 101, 16) 4624        dropout_32[0][0]                 \n",
      "__________________________________________________________________________________________________\n",
      "batch_normalization_176 (BatchN (None, 101, 101, 16) 64          conv2d_179[0][0]                 \n",
      "__________________________________________________________________________________________________\n",
      "activation_179 (Activation)     (None, 101, 101, 16) 0           batch_normalization_176[0][0]    \n",
      "__________________________________________________________________________________________________\n",
      "conv2d_180 (Conv2D)             (None, 101, 101, 16) 2320        activation_179[0][0]             \n",
      "__________________________________________________________________________________________________\n",
      "batch_normalization_177 (BatchN (None, 101, 101, 16) 64          conv2d_180[0][0]                 \n",
      "__________________________________________________________________________________________________\n",
      "activation_180 (Activation)     (None, 101, 101, 16) 0           batch_normalization_177[0][0]    \n",
      "__________________________________________________________________________________________________\n",
      "conv2d_181 (Conv2D)             (None, 101, 101, 16) 2320        activation_180[0][0]             \n",
      "__________________________________________________________________________________________________\n",
      "add_71 (Add)                    (None, 101, 101, 16) 0           conv2d_181[0][0]                 \n",
      "                                                                 conv2d_179[0][0]                 \n",
      "__________________________________________________________________________________________________\n",
      "batch_normalization_178 (BatchN (None, 101, 101, 16) 64          add_71[0][0]                     \n",
      "__________________________________________________________________________________________________\n",
      "activation_181 (Activation)     (None, 101, 101, 16) 0           batch_normalization_178[0][0]    \n",
      "__________________________________________________________________________________________________\n",
      "conv2d_182 (Conv2D)             (None, 101, 101, 16) 2320        activation_181[0][0]             \n",
      "__________________________________________________________________________________________________\n",
      "batch_normalization_179 (BatchN (None, 101, 101, 16) 64          conv2d_182[0][0]                 \n",
      "__________________________________________________________________________________________________\n",
      "activation_182 (Activation)     (None, 101, 101, 16) 0           batch_normalization_179[0][0]    \n",
      "__________________________________________________________________________________________________\n",
      "conv2d_183 (Conv2D)             (None, 101, 101, 16) 2320        activation_182[0][0]             \n",
      "__________________________________________________________________________________________________\n",
      "add_72 (Add)                    (None, 101, 101, 16) 0           conv2d_183[0][0]                 \n",
      "                                                                 add_71[0][0]                     \n",
      "__________________________________________________________________________________________________\n",
      "batch_normalization_180 (BatchN (None, 101, 101, 16) 64          add_72[0][0]                     \n",
      "__________________________________________________________________________________________________\n",
      "activation_183 (Activation)     (None, 101, 101, 16) 0           batch_normalization_180[0][0]    \n",
      "__________________________________________________________________________________________________\n",
      "conv2d_184 (Conv2D)             (None, 101, 101, 1)  17          activation_183[0][0]             \n",
      "__________________________________________________________________________________________________\n",
      "activation_184 (Activation)     (None, 101, 101, 1)  0           conv2d_184[0][0]                 \n",
      "==================================================================================================\n",
      "Total params: 5,119,857\n",
      "Trainable params: 5,112,497\n",
      "Non-trainable params: 7,360\n",
      "__________________________________________________________________________________________________\n"
     ]
    }
   ],
   "source": [
    "# model\n",
    "input_layer = Input((img_size_target, img_size_target, 1))\n",
    "output_layer = build_model(input_layer, 16,0.5)\n",
    "\n",
    "model1 = Model(input_layer, output_layer)\n",
    "\n",
    "c = optimizers.adam(lr = 0.01)\n",
    "model1.compile(loss=\"binary_crossentropy\", optimizer=c, metrics=[my_iou_metric])\n",
    "\n",
    "model1.summary()"
   ]
  },
  {
   "cell_type": "code",
   "execution_count": 25,
   "metadata": {
    "_uuid": "41699081be465c14e193ffad4fd00bd56840f156",
    "scrolled": true
   },
   "outputs": [
    {
     "name": "stdout",
     "output_type": "stream",
     "text": [
      "Train on 6400 samples, validate on 800 samples\n",
      "Epoch 1/150\n",
      " - 87s - loss: 0.3977 - my_iou_metric: 0.4221 - val_loss: 1.2384 - val_my_iou_metric: 0.3900\n",
      "\n",
      "Epoch 00001: my_iou_metric improved from -inf to 0.42214, saving model to dilated_conv.model\n",
      "Epoch 2/150\n",
      " - 72s - loss: 0.3078 - my_iou_metric: 0.5480 - val_loss: 0.7637 - val_my_iou_metric: 0.3139\n",
      "\n",
      "Epoch 00002: my_iou_metric improved from 0.42214 to 0.54797, saving model to dilated_conv.model\n",
      "Epoch 3/150\n",
      " - 72s - loss: 0.2762 - my_iou_metric: 0.5551 - val_loss: 0.3656 - val_my_iou_metric: 0.4690\n",
      "\n",
      "Epoch 00003: my_iou_metric improved from 0.54797 to 0.55508, saving model to dilated_conv.model\n",
      "Epoch 4/150\n",
      " - 71s - loss: 0.2487 - my_iou_metric: 0.5712 - val_loss: 0.3093 - val_my_iou_metric: 0.4843\n",
      "\n",
      "Epoch 00004: my_iou_metric improved from 0.55508 to 0.57117, saving model to dilated_conv.model\n",
      "Epoch 5/150\n",
      " - 72s - loss: 0.2366 - my_iou_metric: 0.5787 - val_loss: 0.3975 - val_my_iou_metric: 0.5192\n",
      "\n",
      "Epoch 00005: my_iou_metric improved from 0.57117 to 0.57873, saving model to dilated_conv.model\n",
      "Epoch 6/150\n",
      " - 72s - loss: 0.2240 - my_iou_metric: 0.5880 - val_loss: 0.9746 - val_my_iou_metric: 0.3935\n",
      "\n",
      "Epoch 00006: my_iou_metric improved from 0.57873 to 0.58803, saving model to dilated_conv.model\n",
      "Epoch 7/150\n",
      " - 72s - loss: 0.2198 - my_iou_metric: 0.6000 - val_loss: 0.2353 - val_my_iou_metric: 0.5001\n",
      "\n",
      "Epoch 00007: my_iou_metric improved from 0.58803 to 0.60003, saving model to dilated_conv.model\n",
      "Epoch 8/150\n",
      " - 72s - loss: 0.2077 - my_iou_metric: 0.6201 - val_loss: 0.2795 - val_my_iou_metric: 0.5958\n",
      "\n",
      "Epoch 00008: my_iou_metric improved from 0.60003 to 0.62008, saving model to dilated_conv.model\n",
      "Epoch 9/150\n",
      " - 72s - loss: 0.1936 - my_iou_metric: 0.6335 - val_loss: 0.2684 - val_my_iou_metric: 0.4979\n",
      "\n",
      "Epoch 00009: my_iou_metric improved from 0.62008 to 0.63352, saving model to dilated_conv.model\n",
      "Epoch 10/150\n",
      " - 72s - loss: 0.1893 - my_iou_metric: 0.6484 - val_loss: 0.2196 - val_my_iou_metric: 0.6375\n",
      "\n",
      "Epoch 00010: my_iou_metric improved from 0.63352 to 0.64841, saving model to dilated_conv.model\n",
      "Epoch 11/150\n",
      " - 72s - loss: 0.1910 - my_iou_metric: 0.6417 - val_loss: 0.3738 - val_my_iou_metric: 0.4489\n",
      "\n",
      "Epoch 00011: my_iou_metric did not improve from 0.64841\n",
      "Epoch 12/150\n",
      " - 72s - loss: 0.1870 - my_iou_metric: 0.6495 - val_loss: 0.4182 - val_my_iou_metric: 0.5681\n",
      "\n",
      "Epoch 00012: my_iou_metric improved from 0.64841 to 0.64945, saving model to dilated_conv.model\n",
      "Epoch 13/150\n",
      " - 72s - loss: 0.1725 - my_iou_metric: 0.6720 - val_loss: 0.1847 - val_my_iou_metric: 0.6621\n",
      "\n",
      "Epoch 00013: my_iou_metric improved from 0.64945 to 0.67200, saving model to dilated_conv.model\n",
      "Epoch 14/150\n",
      " - 72s - loss: 0.1701 - my_iou_metric: 0.6754 - val_loss: 0.2976 - val_my_iou_metric: 0.5520\n",
      "\n",
      "Epoch 00014: my_iou_metric improved from 0.67200 to 0.67536, saving model to dilated_conv.model\n",
      "Epoch 15/150\n",
      " - 72s - loss: 0.1716 - my_iou_metric: 0.6711 - val_loss: 0.3507 - val_my_iou_metric: 0.5049\n",
      "\n",
      "Epoch 00015: my_iou_metric did not improve from 0.67536\n",
      "Epoch 16/150\n",
      " - 72s - loss: 0.1656 - my_iou_metric: 0.6796 - val_loss: 0.1883 - val_my_iou_metric: 0.6899\n",
      "\n",
      "Epoch 00016: my_iou_metric improved from 0.67536 to 0.67961, saving model to dilated_conv.model\n",
      "Epoch 17/150\n",
      " - 72s - loss: 0.1631 - my_iou_metric: 0.6813 - val_loss: 0.1667 - val_my_iou_metric: 0.7041\n",
      "\n",
      "Epoch 00017: my_iou_metric improved from 0.67961 to 0.68125, saving model to dilated_conv.model\n",
      "Epoch 18/150\n",
      " - 72s - loss: 0.1545 - my_iou_metric: 0.6952 - val_loss: 0.1667 - val_my_iou_metric: 0.6550\n",
      "\n",
      "Epoch 00018: my_iou_metric improved from 0.68125 to 0.69516, saving model to dilated_conv.model\n",
      "Epoch 19/150\n",
      " - 72s - loss: 0.1524 - my_iou_metric: 0.6938 - val_loss: 0.2283 - val_my_iou_metric: 0.6395\n",
      "\n",
      "Epoch 00019: my_iou_metric did not improve from 0.69516\n",
      "Epoch 20/150\n",
      " - 72s - loss: 0.1521 - my_iou_metric: 0.6947 - val_loss: 0.2119 - val_my_iou_metric: 0.6529\n",
      "\n",
      "Epoch 00020: my_iou_metric did not improve from 0.69516\n",
      "Epoch 21/150\n",
      " - 72s - loss: 0.1529 - my_iou_metric: 0.7037 - val_loss: 0.1722 - val_my_iou_metric: 0.6488\n",
      "\n",
      "Epoch 00021: my_iou_metric improved from 0.69516 to 0.70369, saving model to dilated_conv.model\n",
      "Epoch 22/150\n",
      " - 72s - loss: 0.1455 - my_iou_metric: 0.7086 - val_loss: 0.2031 - val_my_iou_metric: 0.6791\n",
      "\n",
      "Epoch 00022: my_iou_metric improved from 0.70369 to 0.70861, saving model to dilated_conv.model\n",
      "Epoch 23/150\n",
      " - 72s - loss: 0.1439 - my_iou_metric: 0.7039 - val_loss: 0.3056 - val_my_iou_metric: 0.5903\n",
      "\n",
      "Epoch 00023: my_iou_metric did not improve from 0.70861\n",
      "Epoch 24/150\n",
      " - 72s - loss: 0.1435 - my_iou_metric: 0.7086 - val_loss: 0.1770 - val_my_iou_metric: 0.7135\n",
      "\n",
      "Epoch 00024: my_iou_metric improved from 0.70861 to 0.70862, saving model to dilated_conv.model\n",
      "Epoch 25/150\n",
      " - 72s - loss: 0.1426 - my_iou_metric: 0.7182 - val_loss: 0.1511 - val_my_iou_metric: 0.7264\n",
      "\n",
      "Epoch 00025: my_iou_metric improved from 0.70862 to 0.71822, saving model to dilated_conv.model\n",
      "Epoch 26/150\n",
      " - 72s - loss: 0.1419 - my_iou_metric: 0.7198 - val_loss: 0.1670 - val_my_iou_metric: 0.7085\n",
      "\n",
      "Epoch 00026: my_iou_metric improved from 0.71822 to 0.71980, saving model to dilated_conv.model\n",
      "Epoch 27/150\n",
      " - 72s - loss: 0.1299 - my_iou_metric: 0.7267 - val_loss: 0.1561 - val_my_iou_metric: 0.7422\n",
      "\n",
      "Epoch 00027: my_iou_metric improved from 0.71980 to 0.72672, saving model to dilated_conv.model\n",
      "Epoch 28/150\n",
      " - 72s - loss: 0.1295 - my_iou_metric: 0.7257 - val_loss: 0.3470 - val_my_iou_metric: 0.5799\n",
      "\n",
      "Epoch 00028: my_iou_metric did not improve from 0.72672\n",
      "Epoch 29/150\n",
      " - 72s - loss: 0.1403 - my_iou_metric: 0.7222 - val_loss: 0.2809 - val_my_iou_metric: 0.6424\n",
      "\n",
      "Epoch 00029: my_iou_metric did not improve from 0.72672\n",
      "Epoch 30/150\n",
      " - 72s - loss: 0.1309 - my_iou_metric: 0.7320 - val_loss: 0.1460 - val_my_iou_metric: 0.7342\n",
      "\n",
      "Epoch 00030: my_iou_metric improved from 0.72672 to 0.73200, saving model to dilated_conv.model\n",
      "Epoch 31/150\n",
      " - 72s - loss: 0.1306 - my_iou_metric: 0.7302 - val_loss: 0.1419 - val_my_iou_metric: 0.7425\n",
      "\n",
      "Epoch 00031: my_iou_metric did not improve from 0.73200\n",
      "Epoch 32/150\n",
      " - 72s - loss: 0.1254 - my_iou_metric: 0.7422 - val_loss: 0.1520 - val_my_iou_metric: 0.7391\n",
      "\n",
      "Epoch 00032: my_iou_metric improved from 0.73200 to 0.74216, saving model to dilated_conv.model\n",
      "Epoch 33/150\n",
      " - 72s - loss: 0.1271 - my_iou_metric: 0.7355 - val_loss: 0.1737 - val_my_iou_metric: 0.7129\n",
      "\n",
      "Epoch 00033: my_iou_metric did not improve from 0.74216\n",
      "Epoch 34/150\n",
      " - 72s - loss: 0.1230 - my_iou_metric: 0.7353 - val_loss: 0.1440 - val_my_iou_metric: 0.7165\n",
      "\n",
      "Epoch 00034: my_iou_metric did not improve from 0.74216\n",
      "Epoch 35/150\n",
      " - 72s - loss: 0.1173 - my_iou_metric: 0.7475 - val_loss: 0.1732 - val_my_iou_metric: 0.6806\n",
      "\n",
      "Epoch 00035: my_iou_metric improved from 0.74216 to 0.74745, saving model to dilated_conv.model\n",
      "Epoch 36/150\n",
      " - 72s - loss: 0.1189 - my_iou_metric: 0.7403 - val_loss: 0.1385 - val_my_iou_metric: 0.7145\n",
      "\n",
      "Epoch 00036: my_iou_metric did not improve from 0.74745\n",
      "Epoch 37/150\n",
      " - 72s - loss: 0.1194 - my_iou_metric: 0.7464 - val_loss: 0.1314 - val_my_iou_metric: 0.7591\n",
      "\n",
      "Epoch 00037: my_iou_metric did not improve from 0.74745\n",
      "Epoch 38/150\n",
      " - 72s - loss: 0.1208 - my_iou_metric: 0.7413 - val_loss: 0.1419 - val_my_iou_metric: 0.7540\n",
      "\n",
      "Epoch 00038: my_iou_metric did not improve from 0.74745\n",
      "Epoch 39/150\n",
      " - 72s - loss: 0.1142 - my_iou_metric: 0.7483 - val_loss: 0.1623 - val_my_iou_metric: 0.7055\n",
      "\n",
      "Epoch 00039: my_iou_metric improved from 0.74745 to 0.74825, saving model to dilated_conv.model\n",
      "Epoch 40/150\n",
      " - 72s - loss: 0.1148 - my_iou_metric: 0.7483 - val_loss: 0.1729 - val_my_iou_metric: 0.7370\n",
      "\n",
      "Epoch 00040: my_iou_metric improved from 0.74825 to 0.74828, saving model to dilated_conv.model\n",
      "Epoch 41/150\n",
      " - 72s - loss: 0.1102 - my_iou_metric: 0.7582 - val_loss: 0.1703 - val_my_iou_metric: 0.7179\n",
      "\n",
      "Epoch 00041: my_iou_metric improved from 0.74828 to 0.75825, saving model to dilated_conv.model\n",
      "Epoch 42/150\n",
      " - 72s - loss: 0.1069 - my_iou_metric: 0.7546 - val_loss: 0.2291 - val_my_iou_metric: 0.7155\n",
      "\n",
      "Epoch 00042: my_iou_metric did not improve from 0.75825\n",
      "Epoch 43/150\n",
      " - 72s - loss: 0.1115 - my_iou_metric: 0.7509 - val_loss: 1.1892 - val_my_iou_metric: 0.4184\n",
      "\n",
      "Epoch 00043: my_iou_metric did not improve from 0.75825\n",
      "Epoch 44/150\n",
      " - 73s - loss: 0.1150 - my_iou_metric: 0.7471 - val_loss: 0.1462 - val_my_iou_metric: 0.7293\n"
     ]
    },
    {
     "name": "stdout",
     "output_type": "stream",
     "text": [
      "\n",
      "Epoch 00044: my_iou_metric did not improve from 0.75825\n",
      "Epoch 45/150\n",
      " - 72s - loss: 0.1075 - my_iou_metric: 0.7530 - val_loss: 0.1312 - val_my_iou_metric: 0.7322\n",
      "\n",
      "Epoch 00045: my_iou_metric did not improve from 0.75825\n",
      "Epoch 46/150\n",
      " - 72s - loss: 0.1091 - my_iou_metric: 0.7513 - val_loss: 0.1575 - val_my_iou_metric: 0.7509\n",
      "\n",
      "Epoch 00046: my_iou_metric did not improve from 0.75825\n",
      "\n",
      "Epoch 00046: ReduceLROnPlateau reducing learning rate to 0.004999999888241291.\n",
      "Epoch 47/150\n",
      " - 72s - loss: 0.0922 - my_iou_metric: 0.7763 - val_loss: 0.1384 - val_my_iou_metric: 0.7705\n",
      "\n",
      "Epoch 00047: my_iou_metric improved from 0.75825 to 0.77633, saving model to dilated_conv.model\n",
      "Epoch 48/150\n",
      " - 72s - loss: 0.0860 - my_iou_metric: 0.7766 - val_loss: 0.1723 - val_my_iou_metric: 0.7285\n",
      "\n",
      "Epoch 00048: my_iou_metric improved from 0.77633 to 0.77661, saving model to dilated_conv.model\n",
      "Epoch 49/150\n",
      " - 72s - loss: 0.0854 - my_iou_metric: 0.7876 - val_loss: 0.1605 - val_my_iou_metric: 0.7506\n",
      "\n",
      "Epoch 00049: my_iou_metric improved from 0.77661 to 0.78758, saving model to dilated_conv.model\n",
      "Epoch 50/150\n",
      " - 72s - loss: 0.0857 - my_iou_metric: 0.7785 - val_loss: 0.1466 - val_my_iou_metric: 0.7730\n",
      "\n",
      "Epoch 00050: my_iou_metric did not improve from 0.78758\n",
      "Epoch 51/150\n",
      " - 72s - loss: 0.0849 - my_iou_metric: 0.7827 - val_loss: 0.1911 - val_my_iou_metric: 0.7436\n",
      "\n",
      "Epoch 00051: my_iou_metric did not improve from 0.78758\n",
      "Epoch 52/150\n",
      " - 72s - loss: 0.0832 - my_iou_metric: 0.7817 - val_loss: 0.1607 - val_my_iou_metric: 0.7551\n",
      "\n",
      "Epoch 00052: my_iou_metric did not improve from 0.78758\n",
      "Epoch 53/150\n",
      " - 72s - loss: 0.0853 - my_iou_metric: 0.7800 - val_loss: 0.2294 - val_my_iou_metric: 0.6925\n",
      "\n",
      "Epoch 00053: my_iou_metric did not improve from 0.78758\n",
      "Epoch 54/150\n",
      " - 72s - loss: 0.0838 - my_iou_metric: 0.7787 - val_loss: 0.1354 - val_my_iou_metric: 0.7634\n",
      "\n",
      "Epoch 00054: my_iou_metric did not improve from 0.78758\n",
      "\n",
      "Epoch 00054: ReduceLROnPlateau reducing learning rate to 0.0024999999441206455.\n",
      "Epoch 55/150\n",
      " - 72s - loss: 0.0722 - my_iou_metric: 0.7954 - val_loss: 0.1501 - val_my_iou_metric: 0.7620\n",
      "\n",
      "Epoch 00055: my_iou_metric improved from 0.78758 to 0.79536, saving model to dilated_conv.model\n",
      "Epoch 56/150\n",
      " - 72s - loss: 0.0727 - my_iou_metric: 0.7942 - val_loss: 0.1713 - val_my_iou_metric: 0.7607\n",
      "\n",
      "Epoch 00056: my_iou_metric did not improve from 0.79536\n",
      "Epoch 57/150\n",
      " - 72s - loss: 0.0718 - my_iou_metric: 0.7989 - val_loss: 0.1602 - val_my_iou_metric: 0.7723\n",
      "\n",
      "Epoch 00057: my_iou_metric improved from 0.79536 to 0.79891, saving model to dilated_conv.model\n",
      "Epoch 58/150\n",
      " - 72s - loss: 0.0716 - my_iou_metric: 0.7982 - val_loss: 0.1576 - val_my_iou_metric: 0.7740\n",
      "\n",
      "Epoch 00058: my_iou_metric did not improve from 0.79891\n",
      "Epoch 59/150\n",
      " - 72s - loss: 0.0687 - my_iou_metric: 0.7969 - val_loss: 0.1793 - val_my_iou_metric: 0.7555\n",
      "\n",
      "Epoch 00059: my_iou_metric did not improve from 0.79891\n",
      "Epoch 60/150\n",
      " - 72s - loss: 0.0684 - my_iou_metric: 0.8010 - val_loss: 0.1850 - val_my_iou_metric: 0.7396\n",
      "\n",
      "Epoch 00060: my_iou_metric improved from 0.79891 to 0.80100, saving model to dilated_conv.model\n",
      "Epoch 61/150\n",
      " - 72s - loss: 0.0688 - my_iou_metric: 0.8010 - val_loss: 0.1561 - val_my_iou_metric: 0.7694\n",
      "\n",
      "Epoch 00061: my_iou_metric improved from 0.80100 to 0.80100, saving model to dilated_conv.model\n",
      "Epoch 62/150\n",
      " - 72s - loss: 0.0682 - my_iou_metric: 0.7995 - val_loss: 0.1586 - val_my_iou_metric: 0.7596\n",
      "\n",
      "Epoch 00062: my_iou_metric did not improve from 0.80100\n",
      "Epoch 63/150\n",
      " - 72s - loss: 0.0670 - my_iou_metric: 0.8008 - val_loss: 0.1755 - val_my_iou_metric: 0.7635\n",
      "\n",
      "Epoch 00063: my_iou_metric did not improve from 0.80100\n",
      "Epoch 64/150\n",
      " - 72s - loss: 0.0680 - my_iou_metric: 0.7967 - val_loss: 0.1645 - val_my_iou_metric: 0.7726\n",
      "\n",
      "Epoch 00064: my_iou_metric did not improve from 0.80100\n",
      "Epoch 65/150\n",
      " - 72s - loss: 0.0655 - my_iou_metric: 0.8025 - val_loss: 0.1778 - val_my_iou_metric: 0.7756\n",
      "\n",
      "Epoch 00065: my_iou_metric improved from 0.80100 to 0.80255, saving model to dilated_conv.model\n",
      "Epoch 66/150\n",
      " - 72s - loss: 0.0691 - my_iou_metric: 0.7945 - val_loss: 0.1586 - val_my_iou_metric: 0.7562\n",
      "\n",
      "Epoch 00066: my_iou_metric did not improve from 0.80255\n",
      "Epoch 67/150\n",
      " - 72s - loss: 0.0674 - my_iou_metric: 0.7992 - val_loss: 0.1597 - val_my_iou_metric: 0.7753\n",
      "\n",
      "Epoch 00067: my_iou_metric did not improve from 0.80255\n",
      "Epoch 68/150\n",
      " - 72s - loss: 0.0632 - my_iou_metric: 0.8026 - val_loss: 0.2240 - val_my_iou_metric: 0.7559\n",
      "\n",
      "Epoch 00068: my_iou_metric improved from 0.80255 to 0.80264, saving model to dilated_conv.model\n",
      "Epoch 69/150\n",
      " - 72s - loss: 0.0659 - my_iou_metric: 0.8038 - val_loss: 0.1651 - val_my_iou_metric: 0.7749\n",
      "\n",
      "Epoch 00069: my_iou_metric improved from 0.80264 to 0.80377, saving model to dilated_conv.model\n",
      "Epoch 70/150\n",
      " - 72s - loss: 0.0645 - my_iou_metric: 0.8076 - val_loss: 0.1583 - val_my_iou_metric: 0.7560\n",
      "\n",
      "Epoch 00070: my_iou_metric improved from 0.80377 to 0.80756, saving model to dilated_conv.model\n",
      "Epoch 71/150\n",
      " - 72s - loss: 0.0663 - my_iou_metric: 0.8007 - val_loss: 0.1552 - val_my_iou_metric: 0.7659\n",
      "\n",
      "Epoch 00071: my_iou_metric did not improve from 0.80756\n",
      "Epoch 72/150\n",
      " - 72s - loss: 0.0651 - my_iou_metric: 0.8016 - val_loss: 0.2419 - val_my_iou_metric: 0.7364\n",
      "\n",
      "Epoch 00072: my_iou_metric did not improve from 0.80756\n",
      "Epoch 73/150\n",
      " - 72s - loss: 0.0635 - my_iou_metric: 0.8002 - val_loss: 0.1542 - val_my_iou_metric: 0.7743\n",
      "\n",
      "Epoch 00073: my_iou_metric did not improve from 0.80756\n",
      "Epoch 74/150\n",
      " - 72s - loss: 0.0648 - my_iou_metric: 0.8023 - val_loss: 0.1569 - val_my_iou_metric: 0.7726\n",
      "\n",
      "Epoch 00074: my_iou_metric did not improve from 0.80756\n",
      "Epoch 75/150\n",
      " - 72s - loss: 0.0635 - my_iou_metric: 0.8055 - val_loss: 0.1547 - val_my_iou_metric: 0.7705\n",
      "\n",
      "Epoch 00075: my_iou_metric did not improve from 0.80756\n",
      "\n",
      "Epoch 00075: ReduceLROnPlateau reducing learning rate to 0.0012499999720603228.\n",
      "Epoch 76/150\n",
      " - 72s - loss: 0.0588 - my_iou_metric: 0.8103 - val_loss: 0.1641 - val_my_iou_metric: 0.7810\n",
      "\n",
      "Epoch 00076: my_iou_metric improved from 0.80756 to 0.81025, saving model to dilated_conv.model\n",
      "Epoch 77/150\n",
      " - 72s - loss: 0.0601 - my_iou_metric: 0.8118 - val_loss: 0.1572 - val_my_iou_metric: 0.7701\n",
      "\n",
      "Epoch 00077: my_iou_metric improved from 0.81025 to 0.81177, saving model to dilated_conv.model\n",
      "Epoch 78/150\n",
      " - 72s - loss: 0.0578 - my_iou_metric: 0.8103 - val_loss: 0.1591 - val_my_iou_metric: 0.7743\n",
      "\n",
      "Epoch 00078: my_iou_metric did not improve from 0.81177\n",
      "Epoch 79/150\n",
      " - 72s - loss: 0.0586 - my_iou_metric: 0.8119 - val_loss: 0.1617 - val_my_iou_metric: 0.7636\n",
      "\n",
      "Epoch 00079: my_iou_metric improved from 0.81177 to 0.81186, saving model to dilated_conv.model\n",
      "Epoch 80/150\n",
      " - 72s - loss: 0.0575 - my_iou_metric: 0.8109 - val_loss: 0.1689 - val_my_iou_metric: 0.7725\n",
      "\n",
      "Epoch 00080: my_iou_metric did not improve from 0.81186\n",
      "Epoch 81/150\n",
      " - 72s - loss: 0.0563 - my_iou_metric: 0.8129 - val_loss: 0.2070 - val_my_iou_metric: 0.7505\n",
      "\n",
      "Epoch 00081: my_iou_metric improved from 0.81186 to 0.81292, saving model to dilated_conv.model\n",
      "Epoch 82/150\n",
      " - 72s - loss: 0.0542 - my_iou_metric: 0.8154 - val_loss: 0.1823 - val_my_iou_metric: 0.7686\n",
      "\n",
      "Epoch 00082: my_iou_metric improved from 0.81292 to 0.81541, saving model to dilated_conv.model\n",
      "Epoch 83/150\n",
      " - 72s - loss: 0.0560 - my_iou_metric: 0.8151 - val_loss: 0.1610 - val_my_iou_metric: 0.7757\n",
      "\n",
      "Epoch 00083: my_iou_metric did not improve from 0.81541\n",
      "Epoch 84/150\n",
      " - 72s - loss: 0.0545 - my_iou_metric: 0.8138 - val_loss: 0.1777 - val_my_iou_metric: 0.7776\n",
      "\n",
      "Epoch 00084: my_iou_metric did not improve from 0.81541\n",
      "Epoch 85/150\n",
      " - 72s - loss: 0.0553 - my_iou_metric: 0.8135 - val_loss: 0.1953 - val_my_iou_metric: 0.7594\n",
      "\n",
      "Epoch 00085: my_iou_metric did not improve from 0.81541\n",
      "Epoch 86/150\n",
      " - 72s - loss: 0.0540 - my_iou_metric: 0.8148 - val_loss: 0.1835 - val_my_iou_metric: 0.7665\n",
      "\n",
      "Epoch 00086: my_iou_metric did not improve from 0.81541\n",
      "Epoch 87/150\n",
      " - 72s - loss: 0.0553 - my_iou_metric: 0.8099 - val_loss: 0.1926 - val_my_iou_metric: 0.7525\n",
      "\n",
      "Epoch 00087: my_iou_metric did not improve from 0.81541\n",
      "\n",
      "Epoch 00087: ReduceLROnPlateau reducing learning rate to 0.0006249999860301614.\n",
      "Epoch 88/150\n",
      " - 72s - loss: 0.0548 - my_iou_metric: 0.8129 - val_loss: 0.1825 - val_my_iou_metric: 0.7621\n",
      "\n",
      "Epoch 00088: my_iou_metric did not improve from 0.81541\n",
      "Epoch 89/150\n"
     ]
    },
    {
     "name": "stdout",
     "output_type": "stream",
     "text": [
      " - 72s - loss: 0.0546 - my_iou_metric: 0.8163 - val_loss: 0.1727 - val_my_iou_metric: 0.7672\n",
      "\n",
      "Epoch 00089: my_iou_metric improved from 0.81541 to 0.81633, saving model to dilated_conv.model\n",
      "Epoch 90/150\n",
      " - 72s - loss: 0.0541 - my_iou_metric: 0.8181 - val_loss: 0.1727 - val_my_iou_metric: 0.7703\n",
      "\n",
      "Epoch 00090: my_iou_metric improved from 0.81633 to 0.81809, saving model to dilated_conv.model\n",
      "Epoch 91/150\n",
      " - 72s - loss: 0.0543 - my_iou_metric: 0.8127 - val_loss: 0.1792 - val_my_iou_metric: 0.7782\n",
      "\n",
      "Epoch 00091: my_iou_metric did not improve from 0.81809\n",
      "Epoch 92/150\n",
      " - 72s - loss: 0.0525 - my_iou_metric: 0.8183 - val_loss: 0.1861 - val_my_iou_metric: 0.7631\n",
      "\n",
      "Epoch 00092: my_iou_metric improved from 0.81809 to 0.81830, saving model to dilated_conv.model\n",
      "Epoch 93/150\n",
      " - 72s - loss: 0.0542 - my_iou_metric: 0.8150 - val_loss: 0.1697 - val_my_iou_metric: 0.7702\n",
      "\n",
      "Epoch 00093: my_iou_metric did not improve from 0.81830\n",
      "Epoch 94/150\n",
      " - 72s - loss: 0.0534 - my_iou_metric: 0.8150 - val_loss: 0.1804 - val_my_iou_metric: 0.7614\n",
      "\n",
      "Epoch 00094: my_iou_metric did not improve from 0.81830\n",
      "Epoch 95/150\n",
      " - 72s - loss: 0.0516 - my_iou_metric: 0.8191 - val_loss: 0.1846 - val_my_iou_metric: 0.7692\n",
      "\n",
      "Epoch 00095: my_iou_metric improved from 0.81830 to 0.81906, saving model to dilated_conv.model\n",
      "Epoch 96/150\n",
      " - 72s - loss: 0.0536 - my_iou_metric: 0.8155 - val_loss: 0.1676 - val_my_iou_metric: 0.7705\n",
      "\n",
      "Epoch 00096: my_iou_metric did not improve from 0.81906\n",
      "Epoch 97/150\n",
      " - 72s - loss: 0.0532 - my_iou_metric: 0.8155 - val_loss: 0.1808 - val_my_iou_metric: 0.7629\n",
      "\n",
      "Epoch 00097: my_iou_metric did not improve from 0.81906\n",
      "Epoch 98/150\n",
      " - 72s - loss: 0.0542 - my_iou_metric: 0.8104 - val_loss: 0.1794 - val_my_iou_metric: 0.7584\n",
      "\n",
      "Epoch 00098: my_iou_metric did not improve from 0.81906\n",
      "Epoch 99/150\n",
      " - 72s - loss: 0.0520 - my_iou_metric: 0.8187 - val_loss: 0.1845 - val_my_iou_metric: 0.7614\n",
      "\n",
      "Epoch 00099: my_iou_metric did not improve from 0.81906\n",
      "Epoch 100/150\n",
      " - 72s - loss: 0.0516 - my_iou_metric: 0.8179 - val_loss: 0.1877 - val_my_iou_metric: 0.7632\n",
      "\n",
      "Epoch 00100: my_iou_metric did not improve from 0.81906\n",
      "\n",
      "Epoch 00100: ReduceLROnPlateau reducing learning rate to 0.0003124999930150807.\n",
      "Epoch 101/150\n",
      " - 72s - loss: 0.0515 - my_iou_metric: 0.8158 - val_loss: 0.1878 - val_my_iou_metric: 0.7665\n",
      "\n",
      "Epoch 00101: my_iou_metric did not improve from 0.81906\n",
      "Epoch 102/150\n",
      " - 72s - loss: 0.0516 - my_iou_metric: 0.8161 - val_loss: 0.1948 - val_my_iou_metric: 0.7639\n",
      "\n",
      "Epoch 00102: my_iou_metric did not improve from 0.81906\n",
      "Epoch 103/150\n",
      " - 72s - loss: 0.0512 - my_iou_metric: 0.8198 - val_loss: 0.1888 - val_my_iou_metric: 0.7669\n",
      "\n",
      "Epoch 00103: my_iou_metric improved from 0.81906 to 0.81977, saving model to dilated_conv.model\n",
      "Epoch 104/150\n",
      " - 72s - loss: 0.0499 - my_iou_metric: 0.8199 - val_loss: 0.1806 - val_my_iou_metric: 0.7685\n",
      "\n",
      "Epoch 00104: my_iou_metric improved from 0.81977 to 0.81992, saving model to dilated_conv.model\n",
      "Epoch 105/150\n",
      " - 72s - loss: 0.0513 - my_iou_metric: 0.8185 - val_loss: 0.1841 - val_my_iou_metric: 0.7716\n",
      "\n",
      "Epoch 00105: my_iou_metric did not improve from 0.81992\n",
      "Epoch 106/150\n",
      " - 72s - loss: 0.0510 - my_iou_metric: 0.8214 - val_loss: 0.1822 - val_my_iou_metric: 0.7695\n",
      "\n",
      "Epoch 00106: my_iou_metric improved from 0.81992 to 0.82138, saving model to dilated_conv.model\n",
      "Epoch 107/150\n",
      " - 73s - loss: 0.0513 - my_iou_metric: 0.8188 - val_loss: 0.1904 - val_my_iou_metric: 0.7668\n",
      "\n",
      "Epoch 00107: my_iou_metric did not improve from 0.82138\n",
      "Epoch 108/150\n",
      " - 72s - loss: 0.0503 - my_iou_metric: 0.8176 - val_loss: 0.1845 - val_my_iou_metric: 0.7730\n",
      "\n",
      "Epoch 00108: my_iou_metric did not improve from 0.82138\n",
      "Epoch 109/150\n",
      " - 72s - loss: 0.0507 - my_iou_metric: 0.8202 - val_loss: 0.1883 - val_my_iou_metric: 0.7681\n",
      "\n",
      "Epoch 00109: my_iou_metric did not improve from 0.82138\n",
      "Epoch 110/150\n",
      " - 73s - loss: 0.0505 - my_iou_metric: 0.8205 - val_loss: 0.1928 - val_my_iou_metric: 0.7705\n",
      "\n",
      "Epoch 00110: my_iou_metric did not improve from 0.82138\n",
      "Epoch 111/150\n",
      " - 72s - loss: 0.0491 - my_iou_metric: 0.8220 - val_loss: 0.1843 - val_my_iou_metric: 0.7755\n",
      "\n",
      "Epoch 00111: my_iou_metric improved from 0.82138 to 0.82195, saving model to dilated_conv.model\n",
      "Epoch 112/150\n",
      " - 72s - loss: 0.0524 - my_iou_metric: 0.8171 - val_loss: 0.1881 - val_my_iou_metric: 0.7714\n",
      "\n",
      "Epoch 00112: my_iou_metric did not improve from 0.82195\n",
      "Epoch 113/150\n",
      " - 72s - loss: 0.0506 - my_iou_metric: 0.8213 - val_loss: 0.1925 - val_my_iou_metric: 0.7681\n",
      "\n",
      "Epoch 00113: my_iou_metric did not improve from 0.82195\n",
      "Epoch 114/150\n",
      " - 72s - loss: 0.0503 - my_iou_metric: 0.8227 - val_loss: 0.1872 - val_my_iou_metric: 0.7701\n",
      "\n",
      "Epoch 00114: my_iou_metric improved from 0.82195 to 0.82270, saving model to dilated_conv.model\n",
      "Epoch 115/150\n",
      " - 72s - loss: 0.0497 - my_iou_metric: 0.8205 - val_loss: 0.1956 - val_my_iou_metric: 0.7699\n",
      "\n",
      "Epoch 00115: my_iou_metric did not improve from 0.82270\n",
      "Epoch 116/150\n",
      " - 72s - loss: 0.0495 - my_iou_metric: 0.8217 - val_loss: 0.1985 - val_my_iou_metric: 0.7705\n",
      "\n",
      "Epoch 00116: my_iou_metric did not improve from 0.82270\n",
      "Epoch 117/150\n",
      " - 72s - loss: 0.0498 - my_iou_metric: 0.8236 - val_loss: 0.1989 - val_my_iou_metric: 0.7690\n",
      "\n",
      "Epoch 00117: my_iou_metric improved from 0.82270 to 0.82361, saving model to dilated_conv.model\n",
      "Epoch 118/150\n",
      " - 72s - loss: 0.0490 - my_iou_metric: 0.8218 - val_loss: 0.2011 - val_my_iou_metric: 0.7703\n",
      "\n",
      "Epoch 00118: my_iou_metric did not improve from 0.82361\n",
      "Epoch 119/150\n",
      " - 72s - loss: 0.0501 - my_iou_metric: 0.8221 - val_loss: 0.1966 - val_my_iou_metric: 0.7694\n",
      "\n",
      "Epoch 00119: my_iou_metric did not improve from 0.82361\n",
      "Epoch 120/150\n",
      " - 72s - loss: 0.0508 - my_iou_metric: 0.8185 - val_loss: 0.2049 - val_my_iou_metric: 0.7636\n",
      "\n",
      "Epoch 00120: my_iou_metric did not improve from 0.82361\n",
      "Epoch 121/150\n",
      " - 72s - loss: 0.0506 - my_iou_metric: 0.8212 - val_loss: 0.1964 - val_my_iou_metric: 0.7728\n",
      "\n",
      "Epoch 00121: my_iou_metric did not improve from 0.82361\n",
      "Epoch 122/150\n",
      " - 72s - loss: 0.0499 - my_iou_metric: 0.8203 - val_loss: 0.2027 - val_my_iou_metric: 0.7716\n",
      "\n",
      "Epoch 00122: my_iou_metric did not improve from 0.82361\n",
      "\n",
      "Epoch 00122: ReduceLROnPlateau reducing learning rate to 0.00015624999650754035.\n",
      "Epoch 123/150\n",
      " - 72s - loss: 0.0503 - my_iou_metric: 0.8220 - val_loss: 0.1897 - val_my_iou_metric: 0.7771\n",
      "\n",
      "Epoch 00123: my_iou_metric did not improve from 0.82361\n",
      "Epoch 124/150\n",
      " - 72s - loss: 0.0494 - my_iou_metric: 0.8247 - val_loss: 0.1945 - val_my_iou_metric: 0.7708\n",
      "\n",
      "Epoch 00124: my_iou_metric improved from 0.82361 to 0.82469, saving model to dilated_conv.model\n",
      "Epoch 125/150\n",
      " - 72s - loss: 0.0485 - my_iou_metric: 0.8202 - val_loss: 0.2003 - val_my_iou_metric: 0.7673\n",
      "\n",
      "Epoch 00125: my_iou_metric did not improve from 0.82469\n",
      "Epoch 126/150\n",
      " - 72s - loss: 0.0484 - my_iou_metric: 0.8199 - val_loss: 0.1972 - val_my_iou_metric: 0.7706\n",
      "\n",
      "Epoch 00126: my_iou_metric did not improve from 0.82469\n",
      "Epoch 127/150\n",
      " - 72s - loss: 0.0478 - my_iou_metric: 0.8220 - val_loss: 0.1974 - val_my_iou_metric: 0.7741\n",
      "\n",
      "Epoch 00127: my_iou_metric did not improve from 0.82469\n",
      "Epoch 128/150\n",
      " - 72s - loss: 0.0493 - my_iou_metric: 0.8182 - val_loss: 0.1928 - val_my_iou_metric: 0.7702\n",
      "\n",
      "Epoch 00128: my_iou_metric did not improve from 0.82469\n",
      "Epoch 129/150\n",
      " - 72s - loss: 0.0506 - my_iou_metric: 0.8220 - val_loss: 0.1952 - val_my_iou_metric: 0.7736\n",
      "\n",
      "Epoch 00129: my_iou_metric did not improve from 0.82469\n",
      "\n",
      "Epoch 00129: ReduceLROnPlateau reducing learning rate to 7.812499825377017e-05.\n",
      "Epoch 130/150\n",
      " - 72s - loss: 0.0489 - my_iou_metric: 0.8224 - val_loss: 0.1929 - val_my_iou_metric: 0.7754\n",
      "\n",
      "Epoch 00130: my_iou_metric did not improve from 0.82469\n",
      "Epoch 131/150\n"
     ]
    },
    {
     "ename": "KeyboardInterrupt",
     "evalue": "",
     "output_type": "error",
     "traceback": [
      "\u001b[0;31m---------------------------------------------------------------------------\u001b[0m",
      "\u001b[0;31mKeyboardInterrupt\u001b[0m                         Traceback (most recent call last)",
      "\u001b[0;32m<ipython-input-25-65551e0b6342>\u001b[0m in \u001b[0;36m<module>\u001b[0;34m()\u001b[0m\n\u001b[1;32m     11\u001b[0m                     \u001b[0mbatch_size\u001b[0m\u001b[0;34m=\u001b[0m\u001b[0mbatch_size\u001b[0m\u001b[0;34m,\u001b[0m\u001b[0;34m\u001b[0m\u001b[0m\n\u001b[1;32m     12\u001b[0m                     \u001b[0mcallbacks\u001b[0m\u001b[0;34m=\u001b[0m\u001b[0;34m[\u001b[0m \u001b[0mmodel_checkpoint\u001b[0m\u001b[0;34m,\u001b[0m\u001b[0mreduce_lr\u001b[0m\u001b[0;34m]\u001b[0m\u001b[0;34m,\u001b[0m\u001b[0;34m\u001b[0m\u001b[0m\n\u001b[0;32m---> 13\u001b[0;31m                     verbose=2)\n\u001b[0m",
      "\u001b[0;32m/usr/local/lib/python3.5/dist-packages/keras/engine/training.py\u001b[0m in \u001b[0;36mfit\u001b[0;34m(self, x, y, batch_size, epochs, verbose, callbacks, validation_split, validation_data, shuffle, class_weight, sample_weight, initial_epoch, steps_per_epoch, validation_steps, **kwargs)\u001b[0m\n\u001b[1;32m   1035\u001b[0m                                         \u001b[0minitial_epoch\u001b[0m\u001b[0;34m=\u001b[0m\u001b[0minitial_epoch\u001b[0m\u001b[0;34m,\u001b[0m\u001b[0;34m\u001b[0m\u001b[0m\n\u001b[1;32m   1036\u001b[0m                                         \u001b[0msteps_per_epoch\u001b[0m\u001b[0;34m=\u001b[0m\u001b[0msteps_per_epoch\u001b[0m\u001b[0;34m,\u001b[0m\u001b[0;34m\u001b[0m\u001b[0m\n\u001b[0;32m-> 1037\u001b[0;31m                                         validation_steps=validation_steps)\n\u001b[0m\u001b[1;32m   1038\u001b[0m \u001b[0;34m\u001b[0m\u001b[0m\n\u001b[1;32m   1039\u001b[0m     def evaluate(self, x=None, y=None,\n",
      "\u001b[0;32m/usr/local/lib/python3.5/dist-packages/keras/engine/training_arrays.py\u001b[0m in \u001b[0;36mfit_loop\u001b[0;34m(model, f, ins, out_labels, batch_size, epochs, verbose, callbacks, val_f, val_ins, shuffle, callback_metrics, initial_epoch, steps_per_epoch, validation_steps)\u001b[0m\n\u001b[1;32m    197\u001b[0m                     \u001b[0mins_batch\u001b[0m\u001b[0;34m[\u001b[0m\u001b[0mi\u001b[0m\u001b[0;34m]\u001b[0m \u001b[0;34m=\u001b[0m \u001b[0mins_batch\u001b[0m\u001b[0;34m[\u001b[0m\u001b[0mi\u001b[0m\u001b[0;34m]\u001b[0m\u001b[0;34m.\u001b[0m\u001b[0mtoarray\u001b[0m\u001b[0;34m(\u001b[0m\u001b[0;34m)\u001b[0m\u001b[0;34m\u001b[0m\u001b[0m\n\u001b[1;32m    198\u001b[0m \u001b[0;34m\u001b[0m\u001b[0m\n\u001b[0;32m--> 199\u001b[0;31m                 \u001b[0mouts\u001b[0m \u001b[0;34m=\u001b[0m \u001b[0mf\u001b[0m\u001b[0;34m(\u001b[0m\u001b[0mins_batch\u001b[0m\u001b[0;34m)\u001b[0m\u001b[0;34m\u001b[0m\u001b[0m\n\u001b[0m\u001b[1;32m    200\u001b[0m                 \u001b[0mouts\u001b[0m \u001b[0;34m=\u001b[0m \u001b[0mto_list\u001b[0m\u001b[0;34m(\u001b[0m\u001b[0mouts\u001b[0m\u001b[0;34m)\u001b[0m\u001b[0;34m\u001b[0m\u001b[0m\n\u001b[1;32m    201\u001b[0m                 \u001b[0;32mfor\u001b[0m \u001b[0ml\u001b[0m\u001b[0;34m,\u001b[0m \u001b[0mo\u001b[0m \u001b[0;32min\u001b[0m \u001b[0mzip\u001b[0m\u001b[0;34m(\u001b[0m\u001b[0mout_labels\u001b[0m\u001b[0;34m,\u001b[0m \u001b[0mouts\u001b[0m\u001b[0;34m)\u001b[0m\u001b[0;34m:\u001b[0m\u001b[0;34m\u001b[0m\u001b[0m\n",
      "\u001b[0;32m/usr/local/lib/python3.5/dist-packages/keras/backend/tensorflow_backend.py\u001b[0m in \u001b[0;36m__call__\u001b[0;34m(self, inputs)\u001b[0m\n\u001b[1;32m   2664\u001b[0m                 \u001b[0;32mreturn\u001b[0m \u001b[0mself\u001b[0m\u001b[0;34m.\u001b[0m\u001b[0m_legacy_call\u001b[0m\u001b[0;34m(\u001b[0m\u001b[0minputs\u001b[0m\u001b[0;34m)\u001b[0m\u001b[0;34m\u001b[0m\u001b[0m\n\u001b[1;32m   2665\u001b[0m \u001b[0;34m\u001b[0m\u001b[0m\n\u001b[0;32m-> 2666\u001b[0;31m             \u001b[0;32mreturn\u001b[0m \u001b[0mself\u001b[0m\u001b[0;34m.\u001b[0m\u001b[0m_call\u001b[0m\u001b[0;34m(\u001b[0m\u001b[0minputs\u001b[0m\u001b[0;34m)\u001b[0m\u001b[0;34m\u001b[0m\u001b[0m\n\u001b[0m\u001b[1;32m   2667\u001b[0m         \u001b[0;32melse\u001b[0m\u001b[0;34m:\u001b[0m\u001b[0;34m\u001b[0m\u001b[0m\n\u001b[1;32m   2668\u001b[0m             \u001b[0;32mif\u001b[0m \u001b[0mpy_any\u001b[0m\u001b[0;34m(\u001b[0m\u001b[0mis_tensor\u001b[0m\u001b[0;34m(\u001b[0m\u001b[0mx\u001b[0m\u001b[0;34m)\u001b[0m \u001b[0;32mfor\u001b[0m \u001b[0mx\u001b[0m \u001b[0;32min\u001b[0m \u001b[0minputs\u001b[0m\u001b[0;34m)\u001b[0m\u001b[0;34m:\u001b[0m\u001b[0;34m\u001b[0m\u001b[0m\n",
      "\u001b[0;32m/usr/local/lib/python3.5/dist-packages/keras/backend/tensorflow_backend.py\u001b[0m in \u001b[0;36m_call\u001b[0;34m(self, inputs)\u001b[0m\n\u001b[1;32m   2634\u001b[0m                                 \u001b[0msymbol_vals\u001b[0m\u001b[0;34m,\u001b[0m\u001b[0;34m\u001b[0m\u001b[0m\n\u001b[1;32m   2635\u001b[0m                                 session)\n\u001b[0;32m-> 2636\u001b[0;31m         \u001b[0mfetched\u001b[0m \u001b[0;34m=\u001b[0m \u001b[0mself\u001b[0m\u001b[0;34m.\u001b[0m\u001b[0m_callable_fn\u001b[0m\u001b[0;34m(\u001b[0m\u001b[0;34m*\u001b[0m\u001b[0marray_vals\u001b[0m\u001b[0;34m)\u001b[0m\u001b[0;34m\u001b[0m\u001b[0m\n\u001b[0m\u001b[1;32m   2637\u001b[0m         \u001b[0;32mreturn\u001b[0m \u001b[0mfetched\u001b[0m\u001b[0;34m[\u001b[0m\u001b[0;34m:\u001b[0m\u001b[0mlen\u001b[0m\u001b[0;34m(\u001b[0m\u001b[0mself\u001b[0m\u001b[0;34m.\u001b[0m\u001b[0moutputs\u001b[0m\u001b[0;34m)\u001b[0m\u001b[0;34m]\u001b[0m\u001b[0;34m\u001b[0m\u001b[0m\n\u001b[1;32m   2638\u001b[0m \u001b[0;34m\u001b[0m\u001b[0m\n",
      "\u001b[0;32m/usr/local/lib/python3.5/dist-packages/tensorflow/python/client/session.py\u001b[0m in \u001b[0;36m__call__\u001b[0;34m(self, *args)\u001b[0m\n\u001b[1;32m   1449\u001b[0m         \u001b[0;32mif\u001b[0m \u001b[0mself\u001b[0m\u001b[0;34m.\u001b[0m\u001b[0m_session\u001b[0m\u001b[0;34m.\u001b[0m\u001b[0m_created_with_new_api\u001b[0m\u001b[0;34m:\u001b[0m\u001b[0;34m\u001b[0m\u001b[0m\n\u001b[1;32m   1450\u001b[0m           return tf_session.TF_SessionRunCallable(\n\u001b[0;32m-> 1451\u001b[0;31m               self._session._session, self._handle, args, status, None)\n\u001b[0m\u001b[1;32m   1452\u001b[0m         \u001b[0;32melse\u001b[0m\u001b[0;34m:\u001b[0m\u001b[0;34m\u001b[0m\u001b[0m\n\u001b[1;32m   1453\u001b[0m           return tf_session.TF_DeprecatedSessionRunCallable(\n",
      "\u001b[0;31mKeyboardInterrupt\u001b[0m: "
     ]
    }
   ],
   "source": [
    "#early_stopping = EarlyStopping(monitor='my_iou_metric', mode = 'max',patience=10, verbose=1)\n",
    "model_checkpoint = ModelCheckpoint(save_model_name,monitor='my_iou_metric', \n",
    "                                   mode = 'max', save_best_only=True, verbose=1)\n",
    "reduce_lr = ReduceLROnPlateau(monitor='my_iou_metric', mode = 'max',factor=0.5, patience=5, min_lr=0.00001, verbose=1)\n",
    "\n",
    "epochs = 150\n",
    "batch_size = 32\n",
    "history = model1.fit(x_train, y_train,\n",
    "                    validation_data=[x_valid, y_valid], \n",
    "                    epochs=epochs,\n",
    "                    batch_size=batch_size,\n",
    "                    callbacks=[ model_checkpoint,reduce_lr], \n",
    "                    verbose=2)"
   ]
  },
  {
   "cell_type": "code",
   "execution_count": 28,
   "metadata": {},
   "outputs": [],
   "source": [
    "from keras.optimizers import nadam"
   ]
  },
  {
   "cell_type": "code",
   "execution_count": 30,
   "metadata": {},
   "outputs": [
    {
     "ename": "NameError",
     "evalue": "name 'model' is not defined",
     "output_type": "error",
     "traceback": [
      "\u001b[0;31m---------------------------------------------------------------------------\u001b[0m",
      "\u001b[0;31mNameError\u001b[0m                                 Traceback (most recent call last)",
      "\u001b[0;32m<ipython-input-30-5f15418b3570>\u001b[0m in \u001b[0;36m<module>\u001b[0;34m()\u001b[0m\n\u001b[0;32m----> 1\u001b[0;31m \u001b[0mmodel\u001b[0m\u001b[0;34m.\u001b[0m\u001b[0msummary\u001b[0m\u001b[0;34m(\u001b[0m\u001b[0;34m)\u001b[0m\u001b[0;34m\u001b[0m\u001b[0m\n\u001b[0m",
      "\u001b[0;31mNameError\u001b[0m: name 'model' is not defined"
     ]
    }
   ],
   "source": [
    "model.summary()"
   ]
  },
  {
   "cell_type": "code",
   "execution_count": 33,
   "metadata": {
    "_uuid": "513a3f8490ae5cbc61651458750ba369f99f6f62",
    "scrolled": true
   },
   "outputs": [],
   "source": [
    "input_layer = Input((img_size_target, img_size_target, 1))\n",
    "output_layer = build_model(input_layer, 16,0.5)\n",
    "\n",
    "# model1 = load_model(save_model_name,custom_objects={'my_iou_metric': my_iou_metric})\n",
    "# remove layter activation layer and use losvasz loss\n",
    "input_x = model1.layers[0].input\n",
    "\n",
    "output_layer = model1.layers[-1].input\n",
    "model = Model(input_x, output_layer)\n",
    "c = optimizers.nadam(lr = 0.01)\n",
    "\n",
    "# lovasz_loss need input range (-∞，+∞), so cancel the last \"sigmoid\" activation  \n",
    "# Then the default threshod for pixel prediction is 0 instead of 0.5, as in my_iou_metric_2.\n",
    "model.compile(loss=lovasz_loss, optimizer=c, metrics=[my_iou_metric_2])\n",
    "\n",
    "#model.summary()"
   ]
  },
  {
   "cell_type": "code",
   "execution_count": 38,
   "metadata": {},
   "outputs": [],
   "source": [
    "model = load_model(save_model_name,custom_objects={'my_iou_metric_2': my_iou_metric_2,'lovasz_loss': lovasz_loss})\n",
    "model.compile(loss=lovasz_loss, optimizer=c, metrics=[my_iou_metric_2])\n"
   ]
  },
  {
   "cell_type": "code",
   "execution_count": 5,
   "metadata": {
    "_uuid": "bc68a1d9f9ec3837a2988bd7fe05d1fffdbc381d",
    "scrolled": true
   },
   "outputs": [
    {
     "ename": "NameError",
     "evalue": "name 'model' is not defined",
     "output_type": "error",
     "traceback": [
      "\u001b[0;31m---------------------------------------------------------------------------\u001b[0m",
      "\u001b[0;31mNameError\u001b[0m                                 Traceback (most recent call last)",
      "\u001b[0;32m<ipython-input-5-865bb391af2c>\u001b[0m in \u001b[0;36m<module>\u001b[0;34m()\u001b[0m\n\u001b[1;32m      6\u001b[0m \u001b[0mbatch_size\u001b[0m \u001b[0;34m=\u001b[0m \u001b[0;36m32\u001b[0m\u001b[0;34m\u001b[0m\u001b[0m\n\u001b[1;32m      7\u001b[0m \u001b[0;34m\u001b[0m\u001b[0m\n\u001b[0;32m----> 8\u001b[0;31m history = model.fit(x_train, y_train,\n\u001b[0m\u001b[1;32m      9\u001b[0m                     \u001b[0mvalidation_data\u001b[0m\u001b[0;34m=\u001b[0m\u001b[0;34m[\u001b[0m\u001b[0mx_valid\u001b[0m\u001b[0;34m,\u001b[0m \u001b[0my_valid\u001b[0m\u001b[0;34m]\u001b[0m\u001b[0;34m,\u001b[0m\u001b[0;34m\u001b[0m\u001b[0m\n\u001b[1;32m     10\u001b[0m                     \u001b[0mepochs\u001b[0m\u001b[0;34m=\u001b[0m\u001b[0mepochs\u001b[0m\u001b[0;34m,\u001b[0m\u001b[0;34m\u001b[0m\u001b[0m\n",
      "\u001b[0;31mNameError\u001b[0m: name 'model' is not defined"
     ]
    }
   ],
   "source": [
    "#early_stopping = EarlyStopping(monitor='val_my_iou_metric_2', mode = 'max',patience=20, verbose=1)\n",
    "model_checkpoint = ModelCheckpoint('ep{epoch:03d}_dilated.h5',monitor='val_my_iou_metric_2', \n",
    "                                   mode = 'max', save_best_only=True, verbose=1)\n",
    "reduce_lr = ReduceLROnPlateau(monitor='val_my_iou_metric_2', mode = 'max',factor=0.3, patience=5, min_lr=0.0001, verbose=1)\n",
    "epochs = 500\n",
    "batch_size = 32\n",
    "\n",
    "history = model.fit(x_train, y_train,\n",
    "                    validation_data=[x_valid, y_valid], \n",
    "                    epochs=epochs,\n",
    "                    batch_size=batch_size,\n",
    "                    callbacks=[ model_checkpoint,reduce_lr], \n",
    "                    verbose=2)"
   ]
  },
  {
   "cell_type": "code",
   "execution_count": 40,
   "metadata": {
    "_uuid": "347c6567c95430f28ec51b94f42603e37a4056db"
   },
   "outputs": [
    {
     "ename": "NameError",
     "evalue": "name 'history' is not defined",
     "output_type": "error",
     "traceback": [
      "\u001b[0;31m---------------------------------------------------------------------------\u001b[0m",
      "\u001b[0;31mNameError\u001b[0m                                 Traceback (most recent call last)",
      "\u001b[0;32m<ipython-input-40-9224ab8a2d68>\u001b[0m in \u001b[0;36m<module>\u001b[0;34m()\u001b[0m\n\u001b[1;32m      1\u001b[0m \u001b[0mfig\u001b[0m\u001b[0;34m,\u001b[0m \u001b[0;34m(\u001b[0m\u001b[0max_loss\u001b[0m\u001b[0;34m,\u001b[0m \u001b[0max_score\u001b[0m\u001b[0;34m)\u001b[0m \u001b[0;34m=\u001b[0m \u001b[0mplt\u001b[0m\u001b[0;34m.\u001b[0m\u001b[0msubplots\u001b[0m\u001b[0;34m(\u001b[0m\u001b[0;36m1\u001b[0m\u001b[0;34m,\u001b[0m \u001b[0;36m2\u001b[0m\u001b[0;34m,\u001b[0m \u001b[0mfigsize\u001b[0m\u001b[0;34m=\u001b[0m\u001b[0;34m(\u001b[0m\u001b[0;36m15\u001b[0m\u001b[0;34m,\u001b[0m\u001b[0;36m5\u001b[0m\u001b[0;34m)\u001b[0m\u001b[0;34m)\u001b[0m\u001b[0;34m\u001b[0m\u001b[0m\n\u001b[0;32m----> 2\u001b[0;31m \u001b[0max_loss\u001b[0m\u001b[0;34m.\u001b[0m\u001b[0mplot\u001b[0m\u001b[0;34m(\u001b[0m\u001b[0mhistory\u001b[0m\u001b[0;34m.\u001b[0m\u001b[0mepoch\u001b[0m\u001b[0;34m,\u001b[0m \u001b[0mhistory\u001b[0m\u001b[0;34m.\u001b[0m\u001b[0mhistory\u001b[0m\u001b[0;34m[\u001b[0m\u001b[0;34m\"loss\"\u001b[0m\u001b[0;34m]\u001b[0m\u001b[0;34m,\u001b[0m \u001b[0mlabel\u001b[0m\u001b[0;34m=\u001b[0m\u001b[0;34m\"Train loss\"\u001b[0m\u001b[0;34m)\u001b[0m\u001b[0;34m\u001b[0m\u001b[0m\n\u001b[0m\u001b[1;32m      3\u001b[0m \u001b[0max_loss\u001b[0m\u001b[0;34m.\u001b[0m\u001b[0mplot\u001b[0m\u001b[0;34m(\u001b[0m\u001b[0mhistory\u001b[0m\u001b[0;34m.\u001b[0m\u001b[0mepoch\u001b[0m\u001b[0;34m,\u001b[0m \u001b[0mhistory\u001b[0m\u001b[0;34m.\u001b[0m\u001b[0mhistory\u001b[0m\u001b[0;34m[\u001b[0m\u001b[0;34m\"val_loss\"\u001b[0m\u001b[0;34m]\u001b[0m\u001b[0;34m,\u001b[0m \u001b[0mlabel\u001b[0m\u001b[0;34m=\u001b[0m\u001b[0;34m\"Validation loss\"\u001b[0m\u001b[0;34m)\u001b[0m\u001b[0;34m\u001b[0m\u001b[0m\n\u001b[1;32m      4\u001b[0m \u001b[0max_loss\u001b[0m\u001b[0;34m.\u001b[0m\u001b[0mlegend\u001b[0m\u001b[0;34m(\u001b[0m\u001b[0;34m)\u001b[0m\u001b[0;34m\u001b[0m\u001b[0m\n\u001b[1;32m      5\u001b[0m \u001b[0max_score\u001b[0m\u001b[0;34m.\u001b[0m\u001b[0mplot\u001b[0m\u001b[0;34m(\u001b[0m\u001b[0mhistory\u001b[0m\u001b[0;34m.\u001b[0m\u001b[0mepoch\u001b[0m\u001b[0;34m,\u001b[0m \u001b[0mhistory\u001b[0m\u001b[0;34m.\u001b[0m\u001b[0mhistory\u001b[0m\u001b[0;34m[\u001b[0m\u001b[0;34m\"my_iou_metric_2\"\u001b[0m\u001b[0;34m]\u001b[0m\u001b[0;34m,\u001b[0m \u001b[0mlabel\u001b[0m\u001b[0;34m=\u001b[0m\u001b[0;34m\"Train score\"\u001b[0m\u001b[0;34m)\u001b[0m\u001b[0;34m\u001b[0m\u001b[0m\n",
      "\u001b[0;31mNameError\u001b[0m: name 'history' is not defined"
     ]
    },
    {
     "data": {
      "image/png": "[encoded data removed]",
      "text/plain": [
       "<Figure size 1080x360 with 2 Axes>"
      ]
     },
     "metadata": {
      "needs_background": "light"
     },
     "output_type": "display_data"
    }
   ],
   "source": [
    "fig, (ax_loss, ax_score) = plt.subplots(1, 2, figsize=(15,5))\n",
    "ax_loss.plot(history.epoch, history.history[\"loss\"], label=\"Train loss\")\n",
    "ax_loss.plot(history.epoch, history.history[\"val_loss\"], label=\"Validation loss\")\n",
    "ax_loss.legend()\n",
    "ax_score.plot(history.epoch, history.history[\"my_iou_metric_2\"], label=\"Train score\")\n",
    "ax_score.plot(history.epoch, history.history[\"val_my_iou_metric_2\"], label=\"Validation score\")\n",
    "ax_score.legend()"
   ]
  },
  {
   "cell_type": "code",
   "execution_count": 10,
   "metadata": {
    "_uuid": "a081f8f61a713457c8c8f3979a78f75541875456"
   },
   "outputs": [],
   "source": [
    "model = load_model(save_model_name,custom_objects={'my_iou_metric_2': my_iou_metric_2,\n",
    "                                                   'lovasz_loss': lovasz_loss})\n",
    "\n"
   ]
  },
  {
   "cell_type": "code",
   "execution_count": 11,
   "metadata": {
    "_uuid": "f68651e1ce6ad9a461c8f1a25a1250fd489adfed"
   },
   "outputs": [],
   "source": [
    "def predict_result(model,x_test,img_size_target): # predict both orginal and reflect x\n",
    "    x_test_reflect =  np.array([np.fliplr(x) for x in x_test])\n",
    "    preds_test = model.predict(x_test).reshape(-1, img_size_target, img_size_target)\n",
    "    preds_test2_refect = model.predict(x_test_reflect).reshape(-1, img_size_target, img_size_target)\n",
    "    preds_test += np.array([ np.fliplr(x) for x in preds_test2_refect] )\n",
    "    return preds_test/2"
   ]
  },
  {
   "cell_type": "code",
   "execution_count": 19,
   "metadata": {
    "_uuid": "b7a061700364ea17735f953d6bd3c835bc3dc630"
   },
   "outputs": [],
   "source": [
    "preds_valid = predict_result(model,x_valid,img_size_target)"
   ]
  },
  {
   "cell_type": "code",
   "execution_count": 20,
   "metadata": {
    "_uuid": "5a9b1a900a8a4d031978c3b5ef2e739b5661de73"
   },
   "outputs": [],
   "source": [
    "#Score the model and do a threshold optimization by the best IoU.\n",
    "\n",
    "# src: https://www.kaggle.com/aglotero/another-iou-metric\n",
    "def iou_metric(y_true_in, y_pred_in, print_table=False):\n",
    "    labels = y_true_in\n",
    "    y_pred = y_pred_in\n",
    "\n",
    "\n",
    "    true_objects = 2\n",
    "    pred_objects = 2\n",
    "\n",
    "    #  if all zeros, original code  generate wrong  bins [-0.5 0 0.5],\n",
    "    temp1 = np.histogram2d(labels.flatten(), y_pred.flatten(), bins=([0,0.5,1], [0,0.5, 1]))\n",
    "#     temp1 = np.histogram2d(labels.flatten(), y_pred.flatten(), bins=(true_objects, pred_objects))\n",
    "    #print(temp1)\n",
    "    intersection = temp1[0]\n",
    "    #print(\"temp2 = \",temp1[1])\n",
    "    #print(intersection.shape)\n",
    "   # print(intersection)\n",
    "    # Compute areas (needed for finding the union between all objects)\n",
    "    #print(np.histogram(labels, bins = true_objects))\n",
    "    area_true = np.histogram(labels,bins=[0,0.5,1])[0]\n",
    "    #print(\"area_true = \",area_true)\n",
    "    area_pred = np.histogram(y_pred, bins=[0,0.5,1])[0]\n",
    "    area_true = np.expand_dims(area_true, -1)\n",
    "    area_pred = np.expand_dims(area_pred, 0)\n",
    "\n",
    "    # Compute union\n",
    "    union = area_true + area_pred - intersection\n",
    "  \n",
    "    # Exclude background from the analysis\n",
    "    intersection = intersection[1:,1:]\n",
    "    intersection[intersection == 0] = 1e-9\n",
    "    \n",
    "    union = union[1:,1:]\n",
    "    union[union == 0] = 1e-9\n",
    "\n",
    "    # Compute the intersection over union\n",
    "    iou = intersection / union\n",
    "\n",
    "    # Precision helper function\n",
    "    def precision_at(threshold, iou):\n",
    "        matches = iou > threshold\n",
    "        true_positives = np.sum(matches, axis=1) == 1   # Correct objects\n",
    "        false_positives = np.sum(matches, axis=0) == 0  # Missed objects\n",
    "        false_negatives = np.sum(matches, axis=1) == 0  # Extra objects\n",
    "        tp, fp, fn = np.sum(true_positives), np.sum(false_positives), np.sum(false_negatives)\n",
    "        return tp, fp, fn\n",
    "\n",
    "    # Loop over IoU thresholds\n",
    "    prec = []\n",
    "    if print_table:\n",
    "        print(\"Thresh\\tTP\\tFP\\tFN\\tPrec.\")\n",
    "    for t in np.arange(0.5, 1.0, 0.05):\n",
    "        tp, fp, fn = precision_at(t, iou)\n",
    "        if (tp + fp + fn) > 0:\n",
    "            p = tp / (tp + fp + fn)\n",
    "        else:\n",
    "            p = 0\n",
    "        if print_table:\n",
    "            print(\"{:1.3f}\\t{}\\t{}\\t{}\\t{:1.3f}\".format(t, tp, fp, fn, p))\n",
    "        prec.append(p)\n",
    "    \n",
    "    if print_table:\n",
    "        print(\"AP\\t-\\t-\\t-\\t{:1.3f}\".format(np.mean(prec)))\n",
    "    return np.mean(prec)\n",
    "\n",
    "def iou_metric_batch(y_true_in, y_pred_in):\n",
    "    batch_size = y_true_in.shape[0]\n",
    "    metric = []\n",
    "    for batch in range(batch_size):\n",
    "        value = iou_metric(y_true_in[batch], y_pred_in[batch])\n",
    "        metric.append(value)\n",
    "    return np.mean(metric)\n",
    "\n"
   ]
  },
  {
   "cell_type": "code",
   "execution_count": 21,
   "metadata": {
    "_uuid": "91b1be75d7e8ff74db956c8c846c47ed7576ecb2"
   },
   "outputs": [
    {
     "data": {
      "application/vnd.jupyter.widget-view+json": {
       "model_id": "87848539b18b4532a68f53a31a0806ac",
       "version_major": 2,
       "version_minor": 0
      },
      "text/plain": [
       "HBox(children=(IntProgress(value=0, max=31), HTML(value='')))"
      ]
     },
     "metadata": {},
     "output_type": "display_data"
    },
    {
     "name": "stdout",
     "output_type": "stream",
     "text": [
      "\n",
      "[ 0.7925    0.7935    0.796375  0.796875  0.797     0.798     0.797375\n",
      "  0.798     0.798875  0.799     0.798375  0.798     0.7985    0.797625\n",
      "  0.797375  0.796375  0.7985    0.798125  0.797375  0.797     0.796\n",
      "  0.796375  0.7955    0.794875  0.79475   0.794     0.793     0.793375\n",
      "  0.792125  0.791     0.789875]\n"
     ]
    }
   ],
   "source": [
    "## Scoring for last model, choose threshold by validation data \n",
    "thresholds_ori = np.linspace(0.3, 0.7, 31)\n",
    "# Reverse sigmoid function: Use code below because the  sigmoid activation was removed\n",
    "thresholds = np.log(thresholds_ori/(1-thresholds_ori)) \n",
    "\n",
    "# ious = np.array([get_iou_vector(y_valid, preds_valid > threshold) for threshold in tqdm_notebook(thresholds)])\n",
    "# print(ious)\n",
    "ious = np.array([iou_metric_batch(y_valid, preds_valid > threshold) for threshold in tqdm_notebook(thresholds)])\n",
    "print(ious)"
   ]
  },
  {
   "cell_type": "code",
   "execution_count": 22,
   "metadata": {
    "_uuid": "1beb285910aa6532d7a69a70afa6a9671e6d347d"
   },
   "outputs": [
    {
     "data": {
      "text/plain": [
       "<matplotlib.legend.Legend at 0x7f145838da58>"
      ]
     },
     "execution_count": 22,
     "metadata": {},
     "output_type": "execute_result"
    },
    {
     "data": {
      "image/png": "[encoded data removed]",
      "text/plain": [
       "<Figure size 432x288 with 1 Axes>"
      ]
     },
     "metadata": {
      "needs_background": "light"
     },
     "output_type": "display_data"
    }
   ],
   "source": [
    "# instead of using default 0 as threshold, use validation data to find the best threshold.\n",
    "threshold_best_index = np.argmax(ious) \n",
    "iou_best = ious[threshold_best_index]\n",
    "threshold_best = thresholds[threshold_best_index]\n",
    "\n",
    "plt.plot(thresholds, ious)\n",
    "plt.plot(threshold_best, iou_best, \"xr\", label=\"Best threshold\")\n",
    "plt.xlabel(\"Threshold\")\n",
    "plt.ylabel(\"IoU\")\n",
    "plt.title(\"Threshold vs IoU ({}, {})\".format(threshold_best, iou_best))\n",
    "plt.legend()"
   ]
  },
  {
   "cell_type": "code",
   "execution_count": 23,
   "metadata": {
    "_uuid": "2c4852ecf2c504a4ce30e975f5e36b534c2111e6"
   },
   "outputs": [],
   "source": [
    "\"\"\"\n",
    "used for converting the decoded image to rle mask\n",
    "Fast compared to previous one\n",
    "\"\"\"\n",
    "def rle_encode(im):\n",
    "    '''\n",
    "    im: numpy array, 1 - mask, 0 - background\n",
    "    Returns run length as string formated\n",
    "    '''\n",
    "    pixels = im.flatten(order = 'F')\n",
    "    pixels = np.concatenate([[0], pixels, [0]])\n",
    "    runs = np.where(pixels[1:] != pixels[:-1])[0] + 1\n",
    "    runs[1::2] -= runs[::2]\n",
    "    return ' '.join(str(x) for x in runs)"
   ]
  },
  {
   "cell_type": "code",
   "execution_count": 24,
   "metadata": {
    "_uuid": "21bb50645b1c67d907e42c262d92f975668fccac"
   },
   "outputs": [
    {
     "data": {
      "application/vnd.jupyter.widget-view+json": {
       "model_id": "b8f78f5675984cf9898fd660021cfa02",
       "version_major": 2,
       "version_minor": 0
      },
      "text/plain": [
       "HBox(children=(IntProgress(value=0, max=18000), HTML(value='')))"
      ]
     },
     "metadata": {},
     "output_type": "display_data"
    },
    {
     "name": "stderr",
     "output_type": "stream",
     "text": [
      "/usr/local/lib/python3.5/dist-packages/keras_preprocessing/image.py:489: UserWarning: grayscale is deprecated. Please use color_mode = \"grayscale\"\n",
      "  warnings.warn('grayscale is deprecated. Please use '\n"
     ]
    },
    {
     "name": "stdout",
     "output_type": "stream",
     "text": [
      "\n"
     ]
    }
   ],
   "source": [
    "x_test = np.array([(np.array(load_img(\"../test/images/{}.png\".format(idx), grayscale = True))) / 255 for idx in tqdm_notebook(test_df.index)]).reshape(-1, img_size_target, img_size_target, 1)\n",
    "\n"
   ]
  },
  {
   "cell_type": "code",
   "execution_count": 25,
   "metadata": {
    "_uuid": "ce8185fa64aafbe42ebde98aba984b4f22b0050e"
   },
   "outputs": [],
   "source": [
    "preds_test = predict_result(model,x_test,img_size_target)"
   ]
  },
  {
   "cell_type": "code",
   "execution_count": 28,
   "metadata": {
    "_uuid": "7ccac81a492b9caaff4a25401165e145cf2c6f8e"
   },
   "outputs": [
    {
     "data": {
      "application/vnd.jupyter.widget-view+json": {
       "model_id": "fd634afbe6594a7cbffce9f5cbe162a4",
       "version_major": 2,
       "version_minor": 0
      },
      "text/plain": [
       "HBox(children=(IntProgress(value=0, max=18000), HTML(value='')))"
      ]
     },
     "metadata": {},
     "output_type": "display_data"
    },
    {
     "name": "stdout",
     "output_type": "stream",
     "text": [
      "\n"
     ]
    }
   ],
   "source": [
    "\n",
    "t1 = time.time()\n",
    "pred_dict = {idx: rle_encode(np.round(downsample(preds_test[i]) > threshold_best)) for i, idx in enumerate(tqdm_notebook(test_df.index.values))}\n",
    "t2 = time.time()\n"
   ]
  },
  {
   "cell_type": "code",
   "execution_count": 29,
   "metadata": {
    "_uuid": "770d7d596656f4f1ad17a6063ad662ac80e11b24"
   },
   "outputs": [],
   "source": [
    "sub = pd.DataFrame.from_dict(pred_dict,orient='index')\n",
    "sub.index.names = ['id']\n",
    "sub.columns = ['rle_mask']\n",
    "sub.to_csv(submission_file)"
   ]
  },
  {
   "cell_type": "code",
   "execution_count": null,
   "metadata": {
    "_uuid": "c89c406884ee54bee2c57aff51b116c157553ae9"
   },
   "outputs": [],
   "source": [
    "t_finish = time.time()\n",
    "print(f\"Kernel run time = {(t_finish-t_start)/3600} hours\")"
   ]
  },
  {
   "cell_type": "code",
   "execution_count": null,
   "metadata": {
    "_uuid": "a3009187c164635fbe163bd8ce406c2e309b1e5f",
    "collapsed": true
   },
   "outputs": [],
   "source": []
  }
 ],
 "metadata": {
  "kernelspec": {
   "display_name": "Python 3",
   "language": "python",
   "name": "python3"
  },
  "language_info": {
   "codemirror_mode": {
    "name": "ipython",
    "version": 3
   },
   "file_extension": ".py",
   "mimetype": "text/x-python",
   "name": "python",
   "nbconvert_exporter": "python",
   "pygments_lexer": "ipython3",
   "version": "3.5.2"
  }
 },
 "nbformat": 4,
 "nbformat_minor": 1
}
